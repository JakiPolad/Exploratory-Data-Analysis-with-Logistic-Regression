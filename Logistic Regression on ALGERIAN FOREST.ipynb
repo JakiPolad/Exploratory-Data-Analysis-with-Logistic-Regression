{
 "cells": [
  {
   "cell_type": "markdown",
   "id": "676d0091",
   "metadata": {},
   "source": [
    "# Dataset = Algerian Forest Fires\n",
    "\n",
    " * source = https://archive.ics.uci.edu/ml/datasets/Algerian+Forest+Fires+Dataset++\n",
    " \n",
    " \n",
    "## Informaton of Dataset\n",
    "\n",
    "Attribute Information:\n",
    "\n",
    "1. Date : (DD/MM/YYYY) Day, month ('june' to 'september'), year (2012)\n",
    "Weather data observations\n",
    "2. Temp : temperature noon (temperature max) in Celsius degrees: 22 to 42\n",
    "3. RH : Relative Humidity in %: 21 to 90\n",
    "4. Ws :Wind speed in km/h: 6 to 29\n",
    "5. Rain: total day in mm: 0 to 16.8\n",
    "FWI Components\n",
    "6. Fine Fuel Moisture Code (FFMC) index from the FWI system: 28.6 to 92.5\n",
    "7. Duff Moisture Code (DMC) index from the FWI system: 1.1 to 65.9\n",
    "8. Drought Code (DC) index from the FWI system: 7 to 220.4\n",
    "9. Initial Spread Index (ISI) index from the FWI system: 0 to 18.5\n",
    "10. Buildup Index (BUI) index from the FWI system: 1.1 to 68\n",
    "11. Fire Weather Index (FWI) Index: 0 to 31.1\n",
    "12. Classes: two classes, namely fire and not fire\n",
    "\n",
    "\n",
    "#### -------------------------------------------------------------------------------------------------------------------------------------------------------------------------------------\n",
    "The dataset includes 244 instances that regroup a data of two regions of Algeria,namely the Bejaia region located in the northeast of Algeria and the Sidi Bel-abbes region located in the northwest of Algeria.\n",
    "\n",
    "122 instances for each region.\n",
    "\n",
    "The period from June 2012 to September 2012.\n",
    "The dataset includes 11 attribues and 1 output attribue (class)\n",
    "The 244 instances have been classified into Fire (138 classes) and Not Fire (106 classes) classes.\n"
   ]
  },
  {
   "cell_type": "code",
   "execution_count": 158,
   "id": "89d700e5",
   "metadata": {},
   "outputs": [],
   "source": [
    "# import all the important libraries\n",
    "\n",
    "import pandas as pd\n",
    "import numpy as np\n",
    "import matplotlib.pyplot as plt\n",
    "import seaborn as sns\n",
    "%matplotlib inline\n",
    "import warnings\n",
    "warnings.filterwarnings('ignore')"
   ]
  },
  {
   "cell_type": "code",
   "execution_count": 159,
   "id": "78cc667c",
   "metadata": {},
   "outputs": [],
   "source": [
    "#read the data\n",
    "df = pd.read_csv(r'C:\\Users\\Jaki\\Desktop\\iNeuron Download Material\\Algerian Forest with One header.csv')"
   ]
  },
  {
   "cell_type": "code",
   "execution_count": 160,
   "id": "802d7fb0",
   "metadata": {},
   "outputs": [
    {
     "data": {
      "text/html": [
       "<div>\n",
       "<style scoped>\n",
       "    .dataframe tbody tr th:only-of-type {\n",
       "        vertical-align: middle;\n",
       "    }\n",
       "\n",
       "    .dataframe tbody tr th {\n",
       "        vertical-align: top;\n",
       "    }\n",
       "\n",
       "    .dataframe thead th {\n",
       "        text-align: right;\n",
       "    }\n",
       "</style>\n",
       "<table border=\"1\" class=\"dataframe\">\n",
       "  <thead>\n",
       "    <tr style=\"text-align: right;\">\n",
       "      <th></th>\n",
       "      <th>day</th>\n",
       "      <th>month</th>\n",
       "      <th>year</th>\n",
       "      <th>Temperature</th>\n",
       "      <th>RH</th>\n",
       "      <th>Ws</th>\n",
       "      <th>Rain</th>\n",
       "      <th>FFMC</th>\n",
       "      <th>DMC</th>\n",
       "      <th>DC</th>\n",
       "      <th>ISI</th>\n",
       "      <th>BUI</th>\n",
       "      <th>FWI</th>\n",
       "      <th>Classes</th>\n",
       "    </tr>\n",
       "  </thead>\n",
       "  <tbody>\n",
       "    <tr>\n",
       "      <th>0</th>\n",
       "      <td>1</td>\n",
       "      <td>6</td>\n",
       "      <td>2012</td>\n",
       "      <td>29</td>\n",
       "      <td>57</td>\n",
       "      <td>18</td>\n",
       "      <td>0.0</td>\n",
       "      <td>65.7</td>\n",
       "      <td>3.4</td>\n",
       "      <td>7.6</td>\n",
       "      <td>1.3</td>\n",
       "      <td>3.4</td>\n",
       "      <td>0.5</td>\n",
       "      <td>not fire</td>\n",
       "    </tr>\n",
       "    <tr>\n",
       "      <th>1</th>\n",
       "      <td>2</td>\n",
       "      <td>6</td>\n",
       "      <td>2012</td>\n",
       "      <td>29</td>\n",
       "      <td>61</td>\n",
       "      <td>13</td>\n",
       "      <td>1.3</td>\n",
       "      <td>64.4</td>\n",
       "      <td>4.1</td>\n",
       "      <td>7.6</td>\n",
       "      <td>1.0</td>\n",
       "      <td>3.9</td>\n",
       "      <td>0.4</td>\n",
       "      <td>not fire</td>\n",
       "    </tr>\n",
       "    <tr>\n",
       "      <th>2</th>\n",
       "      <td>3</td>\n",
       "      <td>6</td>\n",
       "      <td>2012</td>\n",
       "      <td>26</td>\n",
       "      <td>82</td>\n",
       "      <td>22</td>\n",
       "      <td>13.1</td>\n",
       "      <td>47.1</td>\n",
       "      <td>2.5</td>\n",
       "      <td>7.1</td>\n",
       "      <td>0.3</td>\n",
       "      <td>2.7</td>\n",
       "      <td>0.1</td>\n",
       "      <td>not fire</td>\n",
       "    </tr>\n",
       "    <tr>\n",
       "      <th>3</th>\n",
       "      <td>4</td>\n",
       "      <td>6</td>\n",
       "      <td>2012</td>\n",
       "      <td>25</td>\n",
       "      <td>89</td>\n",
       "      <td>13</td>\n",
       "      <td>2.5</td>\n",
       "      <td>28.6</td>\n",
       "      <td>1.3</td>\n",
       "      <td>6.9</td>\n",
       "      <td>0.0</td>\n",
       "      <td>1.7</td>\n",
       "      <td>0</td>\n",
       "      <td>not fire</td>\n",
       "    </tr>\n",
       "    <tr>\n",
       "      <th>4</th>\n",
       "      <td>5</td>\n",
       "      <td>6</td>\n",
       "      <td>2012</td>\n",
       "      <td>27</td>\n",
       "      <td>77</td>\n",
       "      <td>16</td>\n",
       "      <td>0.0</td>\n",
       "      <td>64.8</td>\n",
       "      <td>3.0</td>\n",
       "      <td>14.2</td>\n",
       "      <td>1.2</td>\n",
       "      <td>3.9</td>\n",
       "      <td>0.5</td>\n",
       "      <td>not fire</td>\n",
       "    </tr>\n",
       "  </tbody>\n",
       "</table>\n",
       "</div>"
      ],
      "text/plain": [
       "   day  month  year  Temperature   RH   Ws  Rain   FFMC  DMC    DC  ISI  BUI  \\\n",
       "0    1      6  2012           29   57   18    0.0  65.7  3.4   7.6  1.3  3.4   \n",
       "1    2      6  2012           29   61   13    1.3  64.4  4.1   7.6  1.0  3.9   \n",
       "2    3      6  2012           26   82   22   13.1  47.1  2.5   7.1  0.3  2.7   \n",
       "3    4      6  2012           25   89   13    2.5  28.6  1.3   6.9  0.0  1.7   \n",
       "4    5      6  2012           27   77   16    0.0  64.8  3.0  14.2  1.2  3.9   \n",
       "\n",
       "   FWI    Classes    \n",
       "0  0.5  not fire     \n",
       "1  0.4  not fire     \n",
       "2  0.1  not fire     \n",
       "3    0  not fire     \n",
       "4  0.5  not fire     "
      ]
     },
     "execution_count": 160,
     "metadata": {},
     "output_type": "execute_result"
    }
   ],
   "source": [
    "df.head()"
   ]
  },
  {
   "cell_type": "code",
   "execution_count": 161,
   "id": "e8d4afb2",
   "metadata": {},
   "outputs": [],
   "source": [
    "df['Region'] = df.iloc[1:122,df.columns.get_loc('Region')] = 'Bejaia Region'"
   ]
  },
  {
   "cell_type": "code",
   "execution_count": 162,
   "id": "08e216cf",
   "metadata": {},
   "outputs": [],
   "source": [
    "df.iloc[122:,df.columns.get_loc('Region')] = 'Sidi-Bel Abbes Region'"
   ]
  },
  {
   "cell_type": "code",
   "execution_count": 163,
   "id": "51a64cc6",
   "metadata": {},
   "outputs": [
    {
     "data": {
      "text/html": [
       "<div>\n",
       "<style scoped>\n",
       "    .dataframe tbody tr th:only-of-type {\n",
       "        vertical-align: middle;\n",
       "    }\n",
       "\n",
       "    .dataframe tbody tr th {\n",
       "        vertical-align: top;\n",
       "    }\n",
       "\n",
       "    .dataframe thead th {\n",
       "        text-align: right;\n",
       "    }\n",
       "</style>\n",
       "<table border=\"1\" class=\"dataframe\">\n",
       "  <thead>\n",
       "    <tr style=\"text-align: right;\">\n",
       "      <th></th>\n",
       "      <th>day</th>\n",
       "      <th>month</th>\n",
       "      <th>year</th>\n",
       "      <th>Temperature</th>\n",
       "      <th>RH</th>\n",
       "      <th>Ws</th>\n",
       "      <th>Rain</th>\n",
       "      <th>FFMC</th>\n",
       "      <th>DMC</th>\n",
       "      <th>DC</th>\n",
       "      <th>ISI</th>\n",
       "      <th>BUI</th>\n",
       "      <th>FWI</th>\n",
       "      <th>Classes</th>\n",
       "      <th>Region</th>\n",
       "    </tr>\n",
       "  </thead>\n",
       "  <tbody>\n",
       "    <tr>\n",
       "      <th>0</th>\n",
       "      <td>1</td>\n",
       "      <td>6</td>\n",
       "      <td>2012</td>\n",
       "      <td>29</td>\n",
       "      <td>57</td>\n",
       "      <td>18</td>\n",
       "      <td>0.0</td>\n",
       "      <td>65.7</td>\n",
       "      <td>3.4</td>\n",
       "      <td>7.6</td>\n",
       "      <td>1.3</td>\n",
       "      <td>3.4</td>\n",
       "      <td>0.5</td>\n",
       "      <td>not fire</td>\n",
       "      <td>Bejaia Region</td>\n",
       "    </tr>\n",
       "    <tr>\n",
       "      <th>1</th>\n",
       "      <td>2</td>\n",
       "      <td>6</td>\n",
       "      <td>2012</td>\n",
       "      <td>29</td>\n",
       "      <td>61</td>\n",
       "      <td>13</td>\n",
       "      <td>1.3</td>\n",
       "      <td>64.4</td>\n",
       "      <td>4.1</td>\n",
       "      <td>7.6</td>\n",
       "      <td>1.0</td>\n",
       "      <td>3.9</td>\n",
       "      <td>0.4</td>\n",
       "      <td>not fire</td>\n",
       "      <td>Bejaia Region</td>\n",
       "    </tr>\n",
       "    <tr>\n",
       "      <th>2</th>\n",
       "      <td>3</td>\n",
       "      <td>6</td>\n",
       "      <td>2012</td>\n",
       "      <td>26</td>\n",
       "      <td>82</td>\n",
       "      <td>22</td>\n",
       "      <td>13.1</td>\n",
       "      <td>47.1</td>\n",
       "      <td>2.5</td>\n",
       "      <td>7.1</td>\n",
       "      <td>0.3</td>\n",
       "      <td>2.7</td>\n",
       "      <td>0.1</td>\n",
       "      <td>not fire</td>\n",
       "      <td>Bejaia Region</td>\n",
       "    </tr>\n",
       "    <tr>\n",
       "      <th>3</th>\n",
       "      <td>4</td>\n",
       "      <td>6</td>\n",
       "      <td>2012</td>\n",
       "      <td>25</td>\n",
       "      <td>89</td>\n",
       "      <td>13</td>\n",
       "      <td>2.5</td>\n",
       "      <td>28.6</td>\n",
       "      <td>1.3</td>\n",
       "      <td>6.9</td>\n",
       "      <td>0.0</td>\n",
       "      <td>1.7</td>\n",
       "      <td>0</td>\n",
       "      <td>not fire</td>\n",
       "      <td>Bejaia Region</td>\n",
       "    </tr>\n",
       "    <tr>\n",
       "      <th>4</th>\n",
       "      <td>5</td>\n",
       "      <td>6</td>\n",
       "      <td>2012</td>\n",
       "      <td>27</td>\n",
       "      <td>77</td>\n",
       "      <td>16</td>\n",
       "      <td>0.0</td>\n",
       "      <td>64.8</td>\n",
       "      <td>3.0</td>\n",
       "      <td>14.2</td>\n",
       "      <td>1.2</td>\n",
       "      <td>3.9</td>\n",
       "      <td>0.5</td>\n",
       "      <td>not fire</td>\n",
       "      <td>Bejaia Region</td>\n",
       "    </tr>\n",
       "  </tbody>\n",
       "</table>\n",
       "</div>"
      ],
      "text/plain": [
       "   day  month  year  Temperature   RH   Ws  Rain   FFMC  DMC    DC  ISI  BUI  \\\n",
       "0    1      6  2012           29   57   18    0.0  65.7  3.4   7.6  1.3  3.4   \n",
       "1    2      6  2012           29   61   13    1.3  64.4  4.1   7.6  1.0  3.9   \n",
       "2    3      6  2012           26   82   22   13.1  47.1  2.5   7.1  0.3  2.7   \n",
       "3    4      6  2012           25   89   13    2.5  28.6  1.3   6.9  0.0  1.7   \n",
       "4    5      6  2012           27   77   16    0.0  64.8  3.0  14.2  1.2  3.9   \n",
       "\n",
       "   FWI    Classes           Region  \n",
       "0  0.5  not fire     Bejaia Region  \n",
       "1  0.4  not fire     Bejaia Region  \n",
       "2  0.1  not fire     Bejaia Region  \n",
       "3    0  not fire     Bejaia Region  \n",
       "4  0.5  not fire     Bejaia Region  "
      ]
     },
     "execution_count": 163,
     "metadata": {},
     "output_type": "execute_result"
    }
   ],
   "source": [
    "df.head()"
   ]
  },
  {
   "cell_type": "markdown",
   "id": "750e9963",
   "metadata": {},
   "source": [
    "## Observation\n",
    "\n",
    "* In our data we have two Headers First having \"Bejaia Region\" and second is \"Sidi-Bel Abbes Region\" Headers.\n",
    "* So from 0 index to 121 index give every row as Bejaia as per Data Infromation and after this we give \"Sidi-Bel Abbes\" as per Data information"
   ]
  },
  {
   "cell_type": "code",
   "execution_count": 164,
   "id": "eeac0569",
   "metadata": {},
   "outputs": [
    {
     "data": {
      "text/html": [
       "<div>\n",
       "<style scoped>\n",
       "    .dataframe tbody tr th:only-of-type {\n",
       "        vertical-align: middle;\n",
       "    }\n",
       "\n",
       "    .dataframe tbody tr th {\n",
       "        vertical-align: top;\n",
       "    }\n",
       "\n",
       "    .dataframe thead th {\n",
       "        text-align: right;\n",
       "    }\n",
       "</style>\n",
       "<table border=\"1\" class=\"dataframe\">\n",
       "  <thead>\n",
       "    <tr style=\"text-align: right;\">\n",
       "      <th></th>\n",
       "      <th>day</th>\n",
       "      <th>month</th>\n",
       "      <th>year</th>\n",
       "      <th>Temperature</th>\n",
       "      <th>RH</th>\n",
       "      <th>Ws</th>\n",
       "      <th>Rain</th>\n",
       "      <th>FFMC</th>\n",
       "      <th>DMC</th>\n",
       "      <th>DC</th>\n",
       "      <th>ISI</th>\n",
       "      <th>BUI</th>\n",
       "      <th>FWI</th>\n",
       "      <th>Classes</th>\n",
       "      <th>Region</th>\n",
       "    </tr>\n",
       "  </thead>\n",
       "  <tbody>\n",
       "    <tr>\n",
       "      <th>120</th>\n",
       "      <td>29</td>\n",
       "      <td>9</td>\n",
       "      <td>2012</td>\n",
       "      <td>26</td>\n",
       "      <td>80</td>\n",
       "      <td>16</td>\n",
       "      <td>1.8</td>\n",
       "      <td>47.4</td>\n",
       "      <td>2.9</td>\n",
       "      <td>7.7</td>\n",
       "      <td>0.3</td>\n",
       "      <td>3.0</td>\n",
       "      <td>0.1</td>\n",
       "      <td>not fire</td>\n",
       "      <td>Bejaia Region</td>\n",
       "    </tr>\n",
       "    <tr>\n",
       "      <th>121</th>\n",
       "      <td>30</td>\n",
       "      <td>9</td>\n",
       "      <td>2012</td>\n",
       "      <td>25</td>\n",
       "      <td>78</td>\n",
       "      <td>14</td>\n",
       "      <td>1.4</td>\n",
       "      <td>45.0</td>\n",
       "      <td>1.9</td>\n",
       "      <td>7.5</td>\n",
       "      <td>0.2</td>\n",
       "      <td>2.4</td>\n",
       "      <td>0.1</td>\n",
       "      <td>not fire</td>\n",
       "      <td>Bejaia Region</td>\n",
       "    </tr>\n",
       "    <tr>\n",
       "      <th>122</th>\n",
       "      <td>1</td>\n",
       "      <td>6</td>\n",
       "      <td>2012</td>\n",
       "      <td>32</td>\n",
       "      <td>71</td>\n",
       "      <td>12</td>\n",
       "      <td>0.7</td>\n",
       "      <td>57.1</td>\n",
       "      <td>2.5</td>\n",
       "      <td>8.2</td>\n",
       "      <td>0.6</td>\n",
       "      <td>2.8</td>\n",
       "      <td>0.2</td>\n",
       "      <td>not fire</td>\n",
       "      <td>Sidi-Bel Abbes Region</td>\n",
       "    </tr>\n",
       "    <tr>\n",
       "      <th>123</th>\n",
       "      <td>2</td>\n",
       "      <td>6</td>\n",
       "      <td>2012</td>\n",
       "      <td>30</td>\n",
       "      <td>73</td>\n",
       "      <td>13</td>\n",
       "      <td>4.0</td>\n",
       "      <td>55.7</td>\n",
       "      <td>2.7</td>\n",
       "      <td>7.8</td>\n",
       "      <td>0.6</td>\n",
       "      <td>2.9</td>\n",
       "      <td>0.2</td>\n",
       "      <td>not fire</td>\n",
       "      <td>Sidi-Bel Abbes Region</td>\n",
       "    </tr>\n",
       "    <tr>\n",
       "      <th>124</th>\n",
       "      <td>3</td>\n",
       "      <td>6</td>\n",
       "      <td>2012</td>\n",
       "      <td>29</td>\n",
       "      <td>80</td>\n",
       "      <td>14</td>\n",
       "      <td>2.0</td>\n",
       "      <td>48.7</td>\n",
       "      <td>2.2</td>\n",
       "      <td>7.6</td>\n",
       "      <td>0.3</td>\n",
       "      <td>2.6</td>\n",
       "      <td>0.1</td>\n",
       "      <td>not fire</td>\n",
       "      <td>Sidi-Bel Abbes Region</td>\n",
       "    </tr>\n",
       "  </tbody>\n",
       "</table>\n",
       "</div>"
      ],
      "text/plain": [
       "     day  month  year  Temperature   RH   Ws  Rain   FFMC  DMC   DC  ISI  BUI  \\\n",
       "120   29      9  2012           26   80   16    1.8  47.4  2.9  7.7  0.3  3.0   \n",
       "121   30      9  2012           25   78   14    1.4  45.0  1.9  7.5  0.2  2.4   \n",
       "122    1      6  2012           32   71   12    0.7  57.1  2.5  8.2  0.6  2.8   \n",
       "123    2      6  2012           30   73   13    4.0  55.7  2.7  7.8  0.6  2.9   \n",
       "124    3      6  2012           29   80   14    2.0  48.7  2.2  7.6  0.3  2.6   \n",
       "\n",
       "     FWI    Classes                   Region  \n",
       "120  0.1  not fire             Bejaia Region  \n",
       "121  0.1  not fire             Bejaia Region  \n",
       "122  0.2  not fire     Sidi-Bel Abbes Region  \n",
       "123  0.2  not fire     Sidi-Bel Abbes Region  \n",
       "124  0.1  not fire     Sidi-Bel Abbes Region  "
      ]
     },
     "execution_count": 164,
     "metadata": {},
     "output_type": "execute_result"
    }
   ],
   "source": [
    "df[120:125]"
   ]
  },
  {
   "cell_type": "code",
   "execution_count": 165,
   "id": "c62d4a88",
   "metadata": {},
   "outputs": [
    {
     "data": {
      "text/plain": [
       "day              int64\n",
       "month            int64\n",
       "year             int64\n",
       "Temperature      int64\n",
       " RH              int64\n",
       " Ws              int64\n",
       "Rain           float64\n",
       "FFMC           float64\n",
       "DMC            float64\n",
       "DC              object\n",
       "ISI            float64\n",
       "BUI            float64\n",
       "FWI             object\n",
       "Classes         object\n",
       "Region          object\n",
       "dtype: object"
      ]
     },
     "execution_count": 165,
     "metadata": {},
     "output_type": "execute_result"
    }
   ],
   "source": [
    "df.dtypes"
   ]
  },
  {
   "cell_type": "markdown",
   "id": "11b9992b",
   "metadata": {},
   "source": [
    "## Observation\n",
    "\n",
    "* So as per my observation i see here we have \"DC\" and \"FWI\" features are present in String we need to convert them into FLOAT as per Data Infromation."
   ]
  },
  {
   "cell_type": "code",
   "execution_count": 189,
   "id": "4e549e3b",
   "metadata": {},
   "outputs": [
    {
     "data": {
      "text/plain": [
       "['day',\n",
       " 'month',\n",
       " 'year',\n",
       " 'Temperature',\n",
       " ' RH',\n",
       " ' Ws',\n",
       " 'Rain ',\n",
       " 'FFMC',\n",
       " 'DMC',\n",
       " 'DC',\n",
       " 'ISI',\n",
       " 'BUI',\n",
       " 'FWI',\n",
       " 'Classes  ',\n",
       " 'Region']"
      ]
     },
     "execution_count": 189,
     "metadata": {},
     "output_type": "execute_result"
    }
   ],
   "source": [
    "df.columns.to_list()"
   ]
  },
  {
   "cell_type": "code",
   "execution_count": 173,
   "id": "7ae9ce47",
   "metadata": {},
   "outputs": [
    {
     "ename": "ValueError",
     "evalue": "Unable to parse string \"14.6 9\" at position 165",
     "output_type": "error",
     "traceback": [
      "\u001b[1;31m---------------------------------------------------------------------------\u001b[0m",
      "\u001b[1;31mValueError\u001b[0m                                Traceback (most recent call last)",
      "\u001b[1;32m~\\anaconda3\\lib\\site-packages\\pandas\\_libs\\lib.pyx\u001b[0m in \u001b[0;36mpandas._libs.lib.maybe_convert_numeric\u001b[1;34m()\u001b[0m\n",
      "\u001b[1;31mValueError\u001b[0m: Unable to parse string \"14.6 9\"",
      "\nDuring handling of the above exception, another exception occurred:\n",
      "\u001b[1;31mValueError\u001b[0m                                Traceback (most recent call last)",
      "\u001b[1;32m~\\AppData\\Local\\Temp\\ipykernel_13452\\2363165903.py\u001b[0m in \u001b[0;36m<module>\u001b[1;34m\u001b[0m\n\u001b[1;32m----> 1\u001b[1;33m \u001b[0mdf\u001b[0m\u001b[1;33m[\u001b[0m\u001b[1;34m'DC'\u001b[0m\u001b[1;33m]\u001b[0m \u001b[1;33m=\u001b[0m \u001b[0mpd\u001b[0m\u001b[1;33m.\u001b[0m\u001b[0mto_numeric\u001b[0m\u001b[1;33m(\u001b[0m\u001b[0mdf\u001b[0m\u001b[1;33m[\u001b[0m\u001b[1;34m'DC'\u001b[0m\u001b[1;33m]\u001b[0m\u001b[1;33m)\u001b[0m\u001b[1;33m\u001b[0m\u001b[1;33m\u001b[0m\u001b[0m\n\u001b[0m",
      "\u001b[1;32m~\\anaconda3\\lib\\site-packages\\pandas\\core\\tools\\numeric.py\u001b[0m in \u001b[0;36mto_numeric\u001b[1;34m(arg, errors, downcast)\u001b[0m\n\u001b[0;32m    183\u001b[0m         \u001b[0mcoerce_numeric\u001b[0m \u001b[1;33m=\u001b[0m \u001b[0merrors\u001b[0m \u001b[1;32mnot\u001b[0m \u001b[1;32min\u001b[0m \u001b[1;33m(\u001b[0m\u001b[1;34m\"ignore\"\u001b[0m\u001b[1;33m,\u001b[0m \u001b[1;34m\"raise\"\u001b[0m\u001b[1;33m)\u001b[0m\u001b[1;33m\u001b[0m\u001b[1;33m\u001b[0m\u001b[0m\n\u001b[0;32m    184\u001b[0m         \u001b[1;32mtry\u001b[0m\u001b[1;33m:\u001b[0m\u001b[1;33m\u001b[0m\u001b[1;33m\u001b[0m\u001b[0m\n\u001b[1;32m--> 185\u001b[1;33m             values, _ = lib.maybe_convert_numeric(\n\u001b[0m\u001b[0;32m    186\u001b[0m                 \u001b[0mvalues\u001b[0m\u001b[1;33m,\u001b[0m \u001b[0mset\u001b[0m\u001b[1;33m(\u001b[0m\u001b[1;33m)\u001b[0m\u001b[1;33m,\u001b[0m \u001b[0mcoerce_numeric\u001b[0m\u001b[1;33m=\u001b[0m\u001b[0mcoerce_numeric\u001b[0m\u001b[1;33m\u001b[0m\u001b[1;33m\u001b[0m\u001b[0m\n\u001b[0;32m    187\u001b[0m             )\n",
      "\u001b[1;32m~\\anaconda3\\lib\\site-packages\\pandas\\_libs\\lib.pyx\u001b[0m in \u001b[0;36mpandas._libs.lib.maybe_convert_numeric\u001b[1;34m()\u001b[0m\n",
      "\u001b[1;31mValueError\u001b[0m: Unable to parse string \"14.6 9\" at position 165"
     ]
    }
   ],
   "source": [
    "df['DC'] = pd.to_numeric(df['DC'])"
   ]
  },
  {
   "cell_type": "markdown",
   "id": "4df3c016",
   "metadata": {},
   "source": [
    "## Observation\n",
    "\n",
    "* we got erro while converting \"Unable to parse string \"14.6 9\" at position 165\"\n",
    "* We got this error because at 165 positon there is Human Error in data. We have space in between value so that's why it's giving us error."
   ]
  },
  {
   "cell_type": "code",
   "execution_count": 184,
   "id": "b035773f",
   "metadata": {},
   "outputs": [],
   "source": [
    "df.drop([165], inplace=True)"
   ]
  },
  {
   "cell_type": "code",
   "execution_count": 185,
   "id": "0a02ae9c",
   "metadata": {},
   "outputs": [
    {
     "data": {
      "text/html": [
       "<div>\n",
       "<style scoped>\n",
       "    .dataframe tbody tr th:only-of-type {\n",
       "        vertical-align: middle;\n",
       "    }\n",
       "\n",
       "    .dataframe tbody tr th {\n",
       "        vertical-align: top;\n",
       "    }\n",
       "\n",
       "    .dataframe thead th {\n",
       "        text-align: right;\n",
       "    }\n",
       "</style>\n",
       "<table border=\"1\" class=\"dataframe\">\n",
       "  <thead>\n",
       "    <tr style=\"text-align: right;\">\n",
       "      <th></th>\n",
       "      <th>day</th>\n",
       "      <th>month</th>\n",
       "      <th>year</th>\n",
       "      <th>Temperature</th>\n",
       "      <th>RH</th>\n",
       "      <th>Ws</th>\n",
       "      <th>Rain</th>\n",
       "      <th>FFMC</th>\n",
       "      <th>DMC</th>\n",
       "      <th>DC</th>\n",
       "      <th>ISI</th>\n",
       "      <th>BUI</th>\n",
       "      <th>FWI</th>\n",
       "      <th>Classes</th>\n",
       "      <th>Region</th>\n",
       "    </tr>\n",
       "  </thead>\n",
       "  <tbody>\n",
       "    <tr>\n",
       "      <th>166</th>\n",
       "      <td>15</td>\n",
       "      <td>7</td>\n",
       "      <td>2012</td>\n",
       "      <td>34</td>\n",
       "      <td>45</td>\n",
       "      <td>17</td>\n",
       "      <td>0.0</td>\n",
       "      <td>90.5</td>\n",
       "      <td>18.0</td>\n",
       "      <td>24.1</td>\n",
       "      <td>10.9</td>\n",
       "      <td>17.7</td>\n",
       "      <td>14.1</td>\n",
       "      <td>fire</td>\n",
       "      <td>Sidi-Bel Abbes Region</td>\n",
       "    </tr>\n",
       "  </tbody>\n",
       "</table>\n",
       "</div>"
      ],
      "text/plain": [
       "     day  month  year  Temperature   RH   Ws  Rain   FFMC   DMC    DC   ISI  \\\n",
       "166   15      7  2012           34   45   17    0.0  90.5  18.0  24.1  10.9   \n",
       "\n",
       "      BUI   FWI Classes                   Region  \n",
       "166  17.7  14.1   fire     Sidi-Bel Abbes Region  "
      ]
     },
     "execution_count": 185,
     "metadata": {},
     "output_type": "execute_result"
    }
   ],
   "source": [
    "df[165:166]"
   ]
  },
  {
   "cell_type": "code",
   "execution_count": 186,
   "id": "1996080e",
   "metadata": {},
   "outputs": [],
   "source": [
    "df['DC'] = pd.to_numeric(df['DC'])"
   ]
  },
  {
   "cell_type": "code",
   "execution_count": 192,
   "id": "5e63983b",
   "metadata": {},
   "outputs": [],
   "source": [
    "df['FWI'] = pd.to_numeric(df['FWI'])"
   ]
  },
  {
   "cell_type": "code",
   "execution_count": 193,
   "id": "da1d3cda",
   "metadata": {},
   "outputs": [
    {
     "data": {
      "text/html": [
       "<div>\n",
       "<style scoped>\n",
       "    .dataframe tbody tr th:only-of-type {\n",
       "        vertical-align: middle;\n",
       "    }\n",
       "\n",
       "    .dataframe tbody tr th {\n",
       "        vertical-align: top;\n",
       "    }\n",
       "\n",
       "    .dataframe thead th {\n",
       "        text-align: right;\n",
       "    }\n",
       "</style>\n",
       "<table border=\"1\" class=\"dataframe\">\n",
       "  <thead>\n",
       "    <tr style=\"text-align: right;\">\n",
       "      <th></th>\n",
       "      <th>day</th>\n",
       "      <th>month</th>\n",
       "      <th>year</th>\n",
       "      <th>Temperature</th>\n",
       "      <th>RH</th>\n",
       "      <th>Ws</th>\n",
       "      <th>Rain</th>\n",
       "      <th>FFMC</th>\n",
       "      <th>DMC</th>\n",
       "      <th>DC</th>\n",
       "      <th>ISI</th>\n",
       "      <th>BUI</th>\n",
       "      <th>FWI</th>\n",
       "      <th>Classes</th>\n",
       "      <th>Region</th>\n",
       "    </tr>\n",
       "  </thead>\n",
       "  <tbody>\n",
       "    <tr>\n",
       "      <th>0</th>\n",
       "      <td>1</td>\n",
       "      <td>6</td>\n",
       "      <td>2012</td>\n",
       "      <td>29</td>\n",
       "      <td>57</td>\n",
       "      <td>18</td>\n",
       "      <td>0.0</td>\n",
       "      <td>65.7</td>\n",
       "      <td>3.4</td>\n",
       "      <td>7.6</td>\n",
       "      <td>1.3</td>\n",
       "      <td>3.4</td>\n",
       "      <td>0.5</td>\n",
       "      <td>not fire</td>\n",
       "      <td>Bejaia Region</td>\n",
       "    </tr>\n",
       "    <tr>\n",
       "      <th>1</th>\n",
       "      <td>2</td>\n",
       "      <td>6</td>\n",
       "      <td>2012</td>\n",
       "      <td>29</td>\n",
       "      <td>61</td>\n",
       "      <td>13</td>\n",
       "      <td>1.3</td>\n",
       "      <td>64.4</td>\n",
       "      <td>4.1</td>\n",
       "      <td>7.6</td>\n",
       "      <td>1.0</td>\n",
       "      <td>3.9</td>\n",
       "      <td>0.4</td>\n",
       "      <td>not fire</td>\n",
       "      <td>Bejaia Region</td>\n",
       "    </tr>\n",
       "    <tr>\n",
       "      <th>2</th>\n",
       "      <td>3</td>\n",
       "      <td>6</td>\n",
       "      <td>2012</td>\n",
       "      <td>26</td>\n",
       "      <td>82</td>\n",
       "      <td>22</td>\n",
       "      <td>13.1</td>\n",
       "      <td>47.1</td>\n",
       "      <td>2.5</td>\n",
       "      <td>7.1</td>\n",
       "      <td>0.3</td>\n",
       "      <td>2.7</td>\n",
       "      <td>0.1</td>\n",
       "      <td>not fire</td>\n",
       "      <td>Bejaia Region</td>\n",
       "    </tr>\n",
       "    <tr>\n",
       "      <th>3</th>\n",
       "      <td>4</td>\n",
       "      <td>6</td>\n",
       "      <td>2012</td>\n",
       "      <td>25</td>\n",
       "      <td>89</td>\n",
       "      <td>13</td>\n",
       "      <td>2.5</td>\n",
       "      <td>28.6</td>\n",
       "      <td>1.3</td>\n",
       "      <td>6.9</td>\n",
       "      <td>0.0</td>\n",
       "      <td>1.7</td>\n",
       "      <td>0.0</td>\n",
       "      <td>not fire</td>\n",
       "      <td>Bejaia Region</td>\n",
       "    </tr>\n",
       "    <tr>\n",
       "      <th>4</th>\n",
       "      <td>5</td>\n",
       "      <td>6</td>\n",
       "      <td>2012</td>\n",
       "      <td>27</td>\n",
       "      <td>77</td>\n",
       "      <td>16</td>\n",
       "      <td>0.0</td>\n",
       "      <td>64.8</td>\n",
       "      <td>3.0</td>\n",
       "      <td>14.2</td>\n",
       "      <td>1.2</td>\n",
       "      <td>3.9</td>\n",
       "      <td>0.5</td>\n",
       "      <td>not fire</td>\n",
       "      <td>Bejaia Region</td>\n",
       "    </tr>\n",
       "  </tbody>\n",
       "</table>\n",
       "</div>"
      ],
      "text/plain": [
       "   day  month  year  Temperature   RH   Ws  Rain   FFMC  DMC    DC  ISI  BUI  \\\n",
       "0    1      6  2012           29   57   18    0.0  65.7  3.4   7.6  1.3  3.4   \n",
       "1    2      6  2012           29   61   13    1.3  64.4  4.1   7.6  1.0  3.9   \n",
       "2    3      6  2012           26   82   22   13.1  47.1  2.5   7.1  0.3  2.7   \n",
       "3    4      6  2012           25   89   13    2.5  28.6  1.3   6.9  0.0  1.7   \n",
       "4    5      6  2012           27   77   16    0.0  64.8  3.0  14.2  1.2  3.9   \n",
       "\n",
       "   FWI    Classes           Region  \n",
       "0  0.5  not fire     Bejaia Region  \n",
       "1  0.4  not fire     Bejaia Region  \n",
       "2  0.1  not fire     Bejaia Region  \n",
       "3  0.0  not fire     Bejaia Region  \n",
       "4  0.5  not fire     Bejaia Region  "
      ]
     },
     "execution_count": 193,
     "metadata": {},
     "output_type": "execute_result"
    }
   ],
   "source": [
    "df.head()"
   ]
  },
  {
   "cell_type": "code",
   "execution_count": 194,
   "id": "a4953304",
   "metadata": {},
   "outputs": [
    {
     "data": {
      "text/plain": [
       "day              int64\n",
       "month            int64\n",
       "year             int64\n",
       "Temperature      int64\n",
       " RH              int64\n",
       " Ws              int64\n",
       "Rain           float64\n",
       "FFMC           float64\n",
       "DMC            float64\n",
       "DC             float64\n",
       "ISI            float64\n",
       "BUI            float64\n",
       "FWI            float64\n",
       "Classes         object\n",
       "Region          object\n",
       "dtype: object"
      ]
     },
     "execution_count": 194,
     "metadata": {},
     "output_type": "execute_result"
    }
   ],
   "source": [
    "df.dtypes"
   ]
  },
  {
   "cell_type": "code",
   "execution_count": 200,
   "id": "2d0a44b0",
   "metadata": {},
   "outputs": [
    {
     "data": {
      "text/plain": [
       "day            0\n",
       "month          0\n",
       "year           0\n",
       "Temperature    0\n",
       " RH            0\n",
       " Ws            0\n",
       "Rain           0\n",
       "FFMC           0\n",
       "DMC            0\n",
       "DC             0\n",
       "ISI            0\n",
       "BUI            0\n",
       "FWI            0\n",
       "Classes        0\n",
       "Region         0\n",
       "dtype: int64"
      ]
     },
     "execution_count": 200,
     "metadata": {},
     "output_type": "execute_result"
    }
   ],
   "source": [
    "df.isnull().sum()"
   ]
  },
  {
   "cell_type": "code",
   "execution_count": 202,
   "id": "fb33fa32",
   "metadata": {},
   "outputs": [
    {
     "data": {
      "text/plain": [
       "0"
      ]
     },
     "execution_count": 202,
     "metadata": {},
     "output_type": "execute_result"
    }
   ],
   "source": [
    "df.duplicated().sum()"
   ]
  },
  {
   "cell_type": "code",
   "execution_count": 223,
   "id": "ed525c8d",
   "metadata": {},
   "outputs": [
    {
     "data": {
      "text/plain": [
       "fire             131\n",
       "not fire         101\n",
       "fire               4\n",
       "fire               2\n",
       "not fire           2\n",
       "not fire           1\n",
       "not fire           1\n",
       "not fire           1\n",
       "Name: Classes  , dtype: int64"
      ]
     },
     "execution_count": 223,
     "metadata": {},
     "output_type": "execute_result"
    }
   ],
   "source": [
    "df['Classes  '].value_counts()"
   ]
  },
  {
   "cell_type": "code",
   "execution_count": 227,
   "id": "dbe8232e",
   "metadata": {},
   "outputs": [
    {
     "data": {
      "text/plain": [
       "101"
      ]
     },
     "execution_count": 227,
     "metadata": {},
     "output_type": "execute_result"
    }
   ],
   "source": [
    "(df['Classes  '] == 'not fire   ').sum()"
   ]
  },
  {
   "cell_type": "code",
   "execution_count": 228,
   "id": "2cde078a",
   "metadata": {},
   "outputs": [
    {
     "data": {
      "text/plain": [
       "2"
      ]
     },
     "execution_count": 228,
     "metadata": {},
     "output_type": "execute_result"
    }
   ],
   "source": [
    "(df['Classes  '] == 'not fire').sum()"
   ]
  },
  {
   "cell_type": "code",
   "execution_count": 238,
   "id": "419941d5",
   "metadata": {},
   "outputs": [],
   "source": [
    "df['Classes  '].str.strip().inplace=True"
   ]
  },
  {
   "cell_type": "code",
   "execution_count": 245,
   "id": "04a9d947",
   "metadata": {},
   "outputs": [],
   "source": [
    "#Firts let's RENAME thr \"Classes  \" to \"Classes\"\n",
    "df.rename(columns= {'Classes  ' : 'Classes'}, inplace=True)"
   ]
  },
  {
   "cell_type": "code",
   "execution_count": 246,
   "id": "57ee3028",
   "metadata": {},
   "outputs": [
    {
     "data": {
      "text/plain": [
       "['day',\n",
       " 'month',\n",
       " 'year',\n",
       " 'Temperature',\n",
       " ' RH',\n",
       " ' Ws',\n",
       " 'Rain ',\n",
       " 'FFMC',\n",
       " 'DMC',\n",
       " 'DC',\n",
       " 'ISI',\n",
       " 'BUI',\n",
       " 'FWI',\n",
       " 'Classes',\n",
       " 'Region']"
      ]
     },
     "execution_count": 246,
     "metadata": {},
     "output_type": "execute_result"
    }
   ],
   "source": [
    "df.columns.to_list()"
   ]
  },
  {
   "cell_type": "code",
   "execution_count": 239,
   "id": "473ad1c5",
   "metadata": {},
   "outputs": [
    {
     "data": {
      "text/plain": [
       "fire             131\n",
       "not fire         101\n",
       "fire               4\n",
       "fire               2\n",
       "not fire           2\n",
       "not fire           1\n",
       "not fire           1\n",
       "not fire           1\n",
       "Name: Classes  , dtype: int64"
      ]
     },
     "execution_count": 239,
     "metadata": {},
     "output_type": "execute_result"
    }
   ],
   "source": [
    "df['Classes  '].value_counts()"
   ]
  },
  {
   "cell_type": "code",
   "execution_count": 267,
   "id": "eb0c4151",
   "metadata": {},
   "outputs": [],
   "source": [
    "df['Classes '] = df['Classes'].str.replace(' ', '')"
   ]
  },
  {
   "cell_type": "code",
   "execution_count": 268,
   "id": "c24a31f5",
   "metadata": {},
   "outputs": [
    {
     "data": {
      "text/html": [
       "<div>\n",
       "<style scoped>\n",
       "    .dataframe tbody tr th:only-of-type {\n",
       "        vertical-align: middle;\n",
       "    }\n",
       "\n",
       "    .dataframe tbody tr th {\n",
       "        vertical-align: top;\n",
       "    }\n",
       "\n",
       "    .dataframe thead th {\n",
       "        text-align: right;\n",
       "    }\n",
       "</style>\n",
       "<table border=\"1\" class=\"dataframe\">\n",
       "  <thead>\n",
       "    <tr style=\"text-align: right;\">\n",
       "      <th></th>\n",
       "      <th>day</th>\n",
       "      <th>month</th>\n",
       "      <th>year</th>\n",
       "      <th>Temperature</th>\n",
       "      <th>RH</th>\n",
       "      <th>Ws</th>\n",
       "      <th>Rain</th>\n",
       "      <th>FFMC</th>\n",
       "      <th>DMC</th>\n",
       "      <th>DC</th>\n",
       "      <th>ISI</th>\n",
       "      <th>BUI</th>\n",
       "      <th>FWI</th>\n",
       "      <th>Classes</th>\n",
       "      <th>Region</th>\n",
       "      <th>Classes</th>\n",
       "    </tr>\n",
       "  </thead>\n",
       "  <tbody>\n",
       "    <tr>\n",
       "      <th>0</th>\n",
       "      <td>1</td>\n",
       "      <td>6</td>\n",
       "      <td>2012</td>\n",
       "      <td>29</td>\n",
       "      <td>57</td>\n",
       "      <td>18</td>\n",
       "      <td>0.0</td>\n",
       "      <td>65.7</td>\n",
       "      <td>3.4</td>\n",
       "      <td>7.6</td>\n",
       "      <td>1.3</td>\n",
       "      <td>3.4</td>\n",
       "      <td>0.5</td>\n",
       "      <td>not fire</td>\n",
       "      <td>Bejaia Region</td>\n",
       "      <td>notfire</td>\n",
       "    </tr>\n",
       "    <tr>\n",
       "      <th>1</th>\n",
       "      <td>2</td>\n",
       "      <td>6</td>\n",
       "      <td>2012</td>\n",
       "      <td>29</td>\n",
       "      <td>61</td>\n",
       "      <td>13</td>\n",
       "      <td>1.3</td>\n",
       "      <td>64.4</td>\n",
       "      <td>4.1</td>\n",
       "      <td>7.6</td>\n",
       "      <td>1.0</td>\n",
       "      <td>3.9</td>\n",
       "      <td>0.4</td>\n",
       "      <td>not fire</td>\n",
       "      <td>Bejaia Region</td>\n",
       "      <td>notfire</td>\n",
       "    </tr>\n",
       "    <tr>\n",
       "      <th>2</th>\n",
       "      <td>3</td>\n",
       "      <td>6</td>\n",
       "      <td>2012</td>\n",
       "      <td>26</td>\n",
       "      <td>82</td>\n",
       "      <td>22</td>\n",
       "      <td>13.1</td>\n",
       "      <td>47.1</td>\n",
       "      <td>2.5</td>\n",
       "      <td>7.1</td>\n",
       "      <td>0.3</td>\n",
       "      <td>2.7</td>\n",
       "      <td>0.1</td>\n",
       "      <td>not fire</td>\n",
       "      <td>Bejaia Region</td>\n",
       "      <td>notfire</td>\n",
       "    </tr>\n",
       "    <tr>\n",
       "      <th>3</th>\n",
       "      <td>4</td>\n",
       "      <td>6</td>\n",
       "      <td>2012</td>\n",
       "      <td>25</td>\n",
       "      <td>89</td>\n",
       "      <td>13</td>\n",
       "      <td>2.5</td>\n",
       "      <td>28.6</td>\n",
       "      <td>1.3</td>\n",
       "      <td>6.9</td>\n",
       "      <td>0.0</td>\n",
       "      <td>1.7</td>\n",
       "      <td>0.0</td>\n",
       "      <td>not fire</td>\n",
       "      <td>Bejaia Region</td>\n",
       "      <td>notfire</td>\n",
       "    </tr>\n",
       "    <tr>\n",
       "      <th>4</th>\n",
       "      <td>5</td>\n",
       "      <td>6</td>\n",
       "      <td>2012</td>\n",
       "      <td>27</td>\n",
       "      <td>77</td>\n",
       "      <td>16</td>\n",
       "      <td>0.0</td>\n",
       "      <td>64.8</td>\n",
       "      <td>3.0</td>\n",
       "      <td>14.2</td>\n",
       "      <td>1.2</td>\n",
       "      <td>3.9</td>\n",
       "      <td>0.5</td>\n",
       "      <td>not fire</td>\n",
       "      <td>Bejaia Region</td>\n",
       "      <td>notfire</td>\n",
       "    </tr>\n",
       "  </tbody>\n",
       "</table>\n",
       "</div>"
      ],
      "text/plain": [
       "   day  month  year  Temperature   RH   Ws  Rain   FFMC  DMC    DC  ISI  BUI  \\\n",
       "0    1      6  2012           29   57   18    0.0  65.7  3.4   7.6  1.3  3.4   \n",
       "1    2      6  2012           29   61   13    1.3  64.4  4.1   7.6  1.0  3.9   \n",
       "2    3      6  2012           26   82   22   13.1  47.1  2.5   7.1  0.3  2.7   \n",
       "3    4      6  2012           25   89   13    2.5  28.6  1.3   6.9  0.0  1.7   \n",
       "4    5      6  2012           27   77   16    0.0  64.8  3.0  14.2  1.2  3.9   \n",
       "\n",
       "   FWI      Classes         Region Classes   \n",
       "0  0.5  not fire     Bejaia Region  notfire  \n",
       "1  0.4  not fire     Bejaia Region  notfire  \n",
       "2  0.1  not fire     Bejaia Region  notfire  \n",
       "3  0.0  not fire     Bejaia Region  notfire  \n",
       "4  0.5  not fire     Bejaia Region  notfire  "
      ]
     },
     "execution_count": 268,
     "metadata": {},
     "output_type": "execute_result"
    }
   ],
   "source": [
    "df.head()"
   ]
  },
  {
   "cell_type": "code",
   "execution_count": 277,
   "id": "70c014c7",
   "metadata": {},
   "outputs": [],
   "source": [
    "df.drop(['Classes'],axis=1, inplace=True)"
   ]
  },
  {
   "cell_type": "code",
   "execution_count": 278,
   "id": "a231082c",
   "metadata": {},
   "outputs": [
    {
     "data": {
      "text/html": [
       "<div>\n",
       "<style scoped>\n",
       "    .dataframe tbody tr th:only-of-type {\n",
       "        vertical-align: middle;\n",
       "    }\n",
       "\n",
       "    .dataframe tbody tr th {\n",
       "        vertical-align: top;\n",
       "    }\n",
       "\n",
       "    .dataframe thead th {\n",
       "        text-align: right;\n",
       "    }\n",
       "</style>\n",
       "<table border=\"1\" class=\"dataframe\">\n",
       "  <thead>\n",
       "    <tr style=\"text-align: right;\">\n",
       "      <th></th>\n",
       "      <th>day</th>\n",
       "      <th>month</th>\n",
       "      <th>year</th>\n",
       "      <th>Temperature</th>\n",
       "      <th>RH</th>\n",
       "      <th>Ws</th>\n",
       "      <th>Rain</th>\n",
       "      <th>FFMC</th>\n",
       "      <th>DMC</th>\n",
       "      <th>DC</th>\n",
       "      <th>ISI</th>\n",
       "      <th>BUI</th>\n",
       "      <th>FWI</th>\n",
       "      <th>Region</th>\n",
       "      <th>Classes</th>\n",
       "    </tr>\n",
       "  </thead>\n",
       "  <tbody>\n",
       "    <tr>\n",
       "      <th>0</th>\n",
       "      <td>1</td>\n",
       "      <td>6</td>\n",
       "      <td>2012</td>\n",
       "      <td>29</td>\n",
       "      <td>57</td>\n",
       "      <td>18</td>\n",
       "      <td>0.0</td>\n",
       "      <td>65.7</td>\n",
       "      <td>3.4</td>\n",
       "      <td>7.6</td>\n",
       "      <td>1.3</td>\n",
       "      <td>3.4</td>\n",
       "      <td>0.5</td>\n",
       "      <td>Bejaia Region</td>\n",
       "      <td>notfire</td>\n",
       "    </tr>\n",
       "    <tr>\n",
       "      <th>1</th>\n",
       "      <td>2</td>\n",
       "      <td>6</td>\n",
       "      <td>2012</td>\n",
       "      <td>29</td>\n",
       "      <td>61</td>\n",
       "      <td>13</td>\n",
       "      <td>1.3</td>\n",
       "      <td>64.4</td>\n",
       "      <td>4.1</td>\n",
       "      <td>7.6</td>\n",
       "      <td>1.0</td>\n",
       "      <td>3.9</td>\n",
       "      <td>0.4</td>\n",
       "      <td>Bejaia Region</td>\n",
       "      <td>notfire</td>\n",
       "    </tr>\n",
       "    <tr>\n",
       "      <th>2</th>\n",
       "      <td>3</td>\n",
       "      <td>6</td>\n",
       "      <td>2012</td>\n",
       "      <td>26</td>\n",
       "      <td>82</td>\n",
       "      <td>22</td>\n",
       "      <td>13.1</td>\n",
       "      <td>47.1</td>\n",
       "      <td>2.5</td>\n",
       "      <td>7.1</td>\n",
       "      <td>0.3</td>\n",
       "      <td>2.7</td>\n",
       "      <td>0.1</td>\n",
       "      <td>Bejaia Region</td>\n",
       "      <td>notfire</td>\n",
       "    </tr>\n",
       "    <tr>\n",
       "      <th>3</th>\n",
       "      <td>4</td>\n",
       "      <td>6</td>\n",
       "      <td>2012</td>\n",
       "      <td>25</td>\n",
       "      <td>89</td>\n",
       "      <td>13</td>\n",
       "      <td>2.5</td>\n",
       "      <td>28.6</td>\n",
       "      <td>1.3</td>\n",
       "      <td>6.9</td>\n",
       "      <td>0.0</td>\n",
       "      <td>1.7</td>\n",
       "      <td>0.0</td>\n",
       "      <td>Bejaia Region</td>\n",
       "      <td>notfire</td>\n",
       "    </tr>\n",
       "    <tr>\n",
       "      <th>4</th>\n",
       "      <td>5</td>\n",
       "      <td>6</td>\n",
       "      <td>2012</td>\n",
       "      <td>27</td>\n",
       "      <td>77</td>\n",
       "      <td>16</td>\n",
       "      <td>0.0</td>\n",
       "      <td>64.8</td>\n",
       "      <td>3.0</td>\n",
       "      <td>14.2</td>\n",
       "      <td>1.2</td>\n",
       "      <td>3.9</td>\n",
       "      <td>0.5</td>\n",
       "      <td>Bejaia Region</td>\n",
       "      <td>notfire</td>\n",
       "    </tr>\n",
       "  </tbody>\n",
       "</table>\n",
       "</div>"
      ],
      "text/plain": [
       "   day  month  year  Temperature   RH   Ws  Rain   FFMC  DMC    DC  ISI  BUI  \\\n",
       "0    1      6  2012           29   57   18    0.0  65.7  3.4   7.6  1.3  3.4   \n",
       "1    2      6  2012           29   61   13    1.3  64.4  4.1   7.6  1.0  3.9   \n",
       "2    3      6  2012           26   82   22   13.1  47.1  2.5   7.1  0.3  2.7   \n",
       "3    4      6  2012           25   89   13    2.5  28.6  1.3   6.9  0.0  1.7   \n",
       "4    5      6  2012           27   77   16    0.0  64.8  3.0  14.2  1.2  3.9   \n",
       "\n",
       "   FWI         Region Classes   \n",
       "0  0.5  Bejaia Region  notfire  \n",
       "1  0.4  Bejaia Region  notfire  \n",
       "2  0.1  Bejaia Region  notfire  \n",
       "3  0.0  Bejaia Region  notfire  \n",
       "4  0.5  Bejaia Region  notfire  "
      ]
     },
     "execution_count": 278,
     "metadata": {},
     "output_type": "execute_result"
    }
   ],
   "source": [
    "df.head()"
   ]
  },
  {
   "cell_type": "code",
   "execution_count": 280,
   "id": "e03f28b2",
   "metadata": {},
   "outputs": [],
   "source": [
    "df.rename(columns ={'Classes ' : 'Classes'},inplace=True)"
   ]
  },
  {
   "cell_type": "code",
   "execution_count": 281,
   "id": "8d368862",
   "metadata": {},
   "outputs": [
    {
     "data": {
      "text/plain": [
       "['day',\n",
       " 'month',\n",
       " 'year',\n",
       " 'Temperature',\n",
       " ' RH',\n",
       " ' Ws',\n",
       " 'Rain ',\n",
       " 'FFMC',\n",
       " 'DMC',\n",
       " 'DC',\n",
       " 'ISI',\n",
       " 'BUI',\n",
       " 'FWI',\n",
       " 'Region',\n",
       " 'Classes']"
      ]
     },
     "execution_count": 281,
     "metadata": {},
     "output_type": "execute_result"
    }
   ],
   "source": [
    "df.columns.to_list()"
   ]
  },
  {
   "cell_type": "markdown",
   "id": "cf9597f9",
   "metadata": {},
   "source": [
    "## Observation \n",
    "\n",
    "* So here we drop the HUMAN ERROR Data.\n",
    "* We also converted \"DC\" and \"FWI\" column in FLOAT\n",
    "* And there is no null value present in this DataSet.\n",
    "* Also we don't have any duplicated values"
   ]
  },
  {
   "cell_type": "markdown",
   "id": "f903df3e",
   "metadata": {},
   "source": [
    "## Let's add Classes Column In BINARY as 0 and 1 \n",
    "\n",
    "## ONE HOT ENCODING TECHNIQUE"
   ]
  },
  {
   "cell_type": "code",
   "execution_count": 299,
   "id": "3f4f7bdd",
   "metadata": {},
   "outputs": [],
   "source": [
    "one_hot_encoding = pd.get_dummies(data = df, columns =['Classes'])"
   ]
  },
  {
   "cell_type": "code",
   "execution_count": 300,
   "id": "6fddd614",
   "metadata": {},
   "outputs": [
    {
     "data": {
      "text/html": [
       "<div>\n",
       "<style scoped>\n",
       "    .dataframe tbody tr th:only-of-type {\n",
       "        vertical-align: middle;\n",
       "    }\n",
       "\n",
       "    .dataframe tbody tr th {\n",
       "        vertical-align: top;\n",
       "    }\n",
       "\n",
       "    .dataframe thead th {\n",
       "        text-align: right;\n",
       "    }\n",
       "</style>\n",
       "<table border=\"1\" class=\"dataframe\">\n",
       "  <thead>\n",
       "    <tr style=\"text-align: right;\">\n",
       "      <th></th>\n",
       "      <th>day</th>\n",
       "      <th>month</th>\n",
       "      <th>year</th>\n",
       "      <th>Temperature</th>\n",
       "      <th>RH</th>\n",
       "      <th>Ws</th>\n",
       "      <th>Rain</th>\n",
       "      <th>FFMC</th>\n",
       "      <th>DMC</th>\n",
       "      <th>DC</th>\n",
       "      <th>ISI</th>\n",
       "      <th>BUI</th>\n",
       "      <th>FWI</th>\n",
       "      <th>Region</th>\n",
       "      <th>Classes_fire</th>\n",
       "      <th>Classes_notfire</th>\n",
       "    </tr>\n",
       "  </thead>\n",
       "  <tbody>\n",
       "    <tr>\n",
       "      <th>0</th>\n",
       "      <td>1</td>\n",
       "      <td>6</td>\n",
       "      <td>2012</td>\n",
       "      <td>29</td>\n",
       "      <td>57</td>\n",
       "      <td>18</td>\n",
       "      <td>0.0</td>\n",
       "      <td>65.7</td>\n",
       "      <td>3.4</td>\n",
       "      <td>7.6</td>\n",
       "      <td>1.3</td>\n",
       "      <td>3.4</td>\n",
       "      <td>0.5</td>\n",
       "      <td>Bejaia Region</td>\n",
       "      <td>0</td>\n",
       "      <td>1</td>\n",
       "    </tr>\n",
       "    <tr>\n",
       "      <th>1</th>\n",
       "      <td>2</td>\n",
       "      <td>6</td>\n",
       "      <td>2012</td>\n",
       "      <td>29</td>\n",
       "      <td>61</td>\n",
       "      <td>13</td>\n",
       "      <td>1.3</td>\n",
       "      <td>64.4</td>\n",
       "      <td>4.1</td>\n",
       "      <td>7.6</td>\n",
       "      <td>1.0</td>\n",
       "      <td>3.9</td>\n",
       "      <td>0.4</td>\n",
       "      <td>Bejaia Region</td>\n",
       "      <td>0</td>\n",
       "      <td>1</td>\n",
       "    </tr>\n",
       "    <tr>\n",
       "      <th>2</th>\n",
       "      <td>3</td>\n",
       "      <td>6</td>\n",
       "      <td>2012</td>\n",
       "      <td>26</td>\n",
       "      <td>82</td>\n",
       "      <td>22</td>\n",
       "      <td>13.1</td>\n",
       "      <td>47.1</td>\n",
       "      <td>2.5</td>\n",
       "      <td>7.1</td>\n",
       "      <td>0.3</td>\n",
       "      <td>2.7</td>\n",
       "      <td>0.1</td>\n",
       "      <td>Bejaia Region</td>\n",
       "      <td>0</td>\n",
       "      <td>1</td>\n",
       "    </tr>\n",
       "    <tr>\n",
       "      <th>3</th>\n",
       "      <td>4</td>\n",
       "      <td>6</td>\n",
       "      <td>2012</td>\n",
       "      <td>25</td>\n",
       "      <td>89</td>\n",
       "      <td>13</td>\n",
       "      <td>2.5</td>\n",
       "      <td>28.6</td>\n",
       "      <td>1.3</td>\n",
       "      <td>6.9</td>\n",
       "      <td>0.0</td>\n",
       "      <td>1.7</td>\n",
       "      <td>0.0</td>\n",
       "      <td>Bejaia Region</td>\n",
       "      <td>0</td>\n",
       "      <td>1</td>\n",
       "    </tr>\n",
       "    <tr>\n",
       "      <th>4</th>\n",
       "      <td>5</td>\n",
       "      <td>6</td>\n",
       "      <td>2012</td>\n",
       "      <td>27</td>\n",
       "      <td>77</td>\n",
       "      <td>16</td>\n",
       "      <td>0.0</td>\n",
       "      <td>64.8</td>\n",
       "      <td>3.0</td>\n",
       "      <td>14.2</td>\n",
       "      <td>1.2</td>\n",
       "      <td>3.9</td>\n",
       "      <td>0.5</td>\n",
       "      <td>Bejaia Region</td>\n",
       "      <td>0</td>\n",
       "      <td>1</td>\n",
       "    </tr>\n",
       "  </tbody>\n",
       "</table>\n",
       "</div>"
      ],
      "text/plain": [
       "   day  month  year  Temperature   RH   Ws  Rain   FFMC  DMC    DC  ISI  BUI  \\\n",
       "0    1      6  2012           29   57   18    0.0  65.7  3.4   7.6  1.3  3.4   \n",
       "1    2      6  2012           29   61   13    1.3  64.4  4.1   7.6  1.0  3.9   \n",
       "2    3      6  2012           26   82   22   13.1  47.1  2.5   7.1  0.3  2.7   \n",
       "3    4      6  2012           25   89   13    2.5  28.6  1.3   6.9  0.0  1.7   \n",
       "4    5      6  2012           27   77   16    0.0  64.8  3.0  14.2  1.2  3.9   \n",
       "\n",
       "   FWI         Region  Classes_fire  Classes_notfire  \n",
       "0  0.5  Bejaia Region             0                1  \n",
       "1  0.4  Bejaia Region             0                1  \n",
       "2  0.1  Bejaia Region             0                1  \n",
       "3  0.0  Bejaia Region             0                1  \n",
       "4  0.5  Bejaia Region             0                1  "
      ]
     },
     "execution_count": 300,
     "metadata": {},
     "output_type": "execute_result"
    }
   ],
   "source": [
    "one_hot_encoding.head()"
   ]
  },
  {
   "cell_type": "code",
   "execution_count": 301,
   "id": "9c5e2b4e",
   "metadata": {},
   "outputs": [],
   "source": [
    "df1 = one_hot_encoding"
   ]
  },
  {
   "cell_type": "code",
   "execution_count": 302,
   "id": "1d0051d4",
   "metadata": {},
   "outputs": [],
   "source": [
    "df1.drop(['Classes_notfire'], axis=1,inplace=True)"
   ]
  },
  {
   "cell_type": "code",
   "execution_count": 303,
   "id": "a37ce278",
   "metadata": {},
   "outputs": [],
   "source": [
    "df1.rename(columns = {\"Classes_fire\" : \"Classes\"},inplace=True)"
   ]
  },
  {
   "cell_type": "code",
   "execution_count": 304,
   "id": "1021487b",
   "metadata": {},
   "outputs": [
    {
     "data": {
      "text/html": [
       "<div>\n",
       "<style scoped>\n",
       "    .dataframe tbody tr th:only-of-type {\n",
       "        vertical-align: middle;\n",
       "    }\n",
       "\n",
       "    .dataframe tbody tr th {\n",
       "        vertical-align: top;\n",
       "    }\n",
       "\n",
       "    .dataframe thead th {\n",
       "        text-align: right;\n",
       "    }\n",
       "</style>\n",
       "<table border=\"1\" class=\"dataframe\">\n",
       "  <thead>\n",
       "    <tr style=\"text-align: right;\">\n",
       "      <th></th>\n",
       "      <th>day</th>\n",
       "      <th>month</th>\n",
       "      <th>year</th>\n",
       "      <th>Temperature</th>\n",
       "      <th>RH</th>\n",
       "      <th>Ws</th>\n",
       "      <th>Rain</th>\n",
       "      <th>FFMC</th>\n",
       "      <th>DMC</th>\n",
       "      <th>DC</th>\n",
       "      <th>ISI</th>\n",
       "      <th>BUI</th>\n",
       "      <th>FWI</th>\n",
       "      <th>Region</th>\n",
       "      <th>Classes</th>\n",
       "    </tr>\n",
       "  </thead>\n",
       "  <tbody>\n",
       "    <tr>\n",
       "      <th>0</th>\n",
       "      <td>1</td>\n",
       "      <td>6</td>\n",
       "      <td>2012</td>\n",
       "      <td>29</td>\n",
       "      <td>57</td>\n",
       "      <td>18</td>\n",
       "      <td>0.0</td>\n",
       "      <td>65.7</td>\n",
       "      <td>3.4</td>\n",
       "      <td>7.6</td>\n",
       "      <td>1.3</td>\n",
       "      <td>3.4</td>\n",
       "      <td>0.5</td>\n",
       "      <td>Bejaia Region</td>\n",
       "      <td>0</td>\n",
       "    </tr>\n",
       "    <tr>\n",
       "      <th>1</th>\n",
       "      <td>2</td>\n",
       "      <td>6</td>\n",
       "      <td>2012</td>\n",
       "      <td>29</td>\n",
       "      <td>61</td>\n",
       "      <td>13</td>\n",
       "      <td>1.3</td>\n",
       "      <td>64.4</td>\n",
       "      <td>4.1</td>\n",
       "      <td>7.6</td>\n",
       "      <td>1.0</td>\n",
       "      <td>3.9</td>\n",
       "      <td>0.4</td>\n",
       "      <td>Bejaia Region</td>\n",
       "      <td>0</td>\n",
       "    </tr>\n",
       "    <tr>\n",
       "      <th>2</th>\n",
       "      <td>3</td>\n",
       "      <td>6</td>\n",
       "      <td>2012</td>\n",
       "      <td>26</td>\n",
       "      <td>82</td>\n",
       "      <td>22</td>\n",
       "      <td>13.1</td>\n",
       "      <td>47.1</td>\n",
       "      <td>2.5</td>\n",
       "      <td>7.1</td>\n",
       "      <td>0.3</td>\n",
       "      <td>2.7</td>\n",
       "      <td>0.1</td>\n",
       "      <td>Bejaia Region</td>\n",
       "      <td>0</td>\n",
       "    </tr>\n",
       "    <tr>\n",
       "      <th>3</th>\n",
       "      <td>4</td>\n",
       "      <td>6</td>\n",
       "      <td>2012</td>\n",
       "      <td>25</td>\n",
       "      <td>89</td>\n",
       "      <td>13</td>\n",
       "      <td>2.5</td>\n",
       "      <td>28.6</td>\n",
       "      <td>1.3</td>\n",
       "      <td>6.9</td>\n",
       "      <td>0.0</td>\n",
       "      <td>1.7</td>\n",
       "      <td>0.0</td>\n",
       "      <td>Bejaia Region</td>\n",
       "      <td>0</td>\n",
       "    </tr>\n",
       "    <tr>\n",
       "      <th>4</th>\n",
       "      <td>5</td>\n",
       "      <td>6</td>\n",
       "      <td>2012</td>\n",
       "      <td>27</td>\n",
       "      <td>77</td>\n",
       "      <td>16</td>\n",
       "      <td>0.0</td>\n",
       "      <td>64.8</td>\n",
       "      <td>3.0</td>\n",
       "      <td>14.2</td>\n",
       "      <td>1.2</td>\n",
       "      <td>3.9</td>\n",
       "      <td>0.5</td>\n",
       "      <td>Bejaia Region</td>\n",
       "      <td>0</td>\n",
       "    </tr>\n",
       "  </tbody>\n",
       "</table>\n",
       "</div>"
      ],
      "text/plain": [
       "   day  month  year  Temperature   RH   Ws  Rain   FFMC  DMC    DC  ISI  BUI  \\\n",
       "0    1      6  2012           29   57   18    0.0  65.7  3.4   7.6  1.3  3.4   \n",
       "1    2      6  2012           29   61   13    1.3  64.4  4.1   7.6  1.0  3.9   \n",
       "2    3      6  2012           26   82   22   13.1  47.1  2.5   7.1  0.3  2.7   \n",
       "3    4      6  2012           25   89   13    2.5  28.6  1.3   6.9  0.0  1.7   \n",
       "4    5      6  2012           27   77   16    0.0  64.8  3.0  14.2  1.2  3.9   \n",
       "\n",
       "   FWI         Region  Classes  \n",
       "0  0.5  Bejaia Region        0  \n",
       "1  0.4  Bejaia Region        0  \n",
       "2  0.1  Bejaia Region        0  \n",
       "3  0.0  Bejaia Region        0  \n",
       "4  0.5  Bejaia Region        0  "
      ]
     },
     "execution_count": 304,
     "metadata": {},
     "output_type": "execute_result"
    }
   ],
   "source": [
    "df1.head()"
   ]
  },
  {
   "cell_type": "markdown",
   "id": "50bf417c",
   "metadata": {},
   "source": [
    "## Observation\n",
    "\n",
    "* So here we done One Hot Encoding and created BINARY Data.\n",
    "* For 0 = \"notfire\" and 1 = \"fire\""
   ]
  },
  {
   "cell_type": "code",
   "execution_count": 307,
   "id": "9cefeb56",
   "metadata": {},
   "outputs": [
    {
     "data": {
      "text/plain": [
       "array([0, 1], dtype=uint8)"
      ]
     },
     "execution_count": 307,
     "metadata": {},
     "output_type": "execute_result"
    }
   ],
   "source": [
    "df1['Classes'].unique()"
   ]
  },
  {
   "cell_type": "code",
   "execution_count": 308,
   "id": "31fa9cc4",
   "metadata": {},
   "outputs": [
    {
     "data": {
      "text/plain": [
       "1    137\n",
       "0    106\n",
       "Name: Classes, dtype: int64"
      ]
     },
     "execution_count": 308,
     "metadata": {},
     "output_type": "execute_result"
    }
   ],
   "source": [
    "df1['Classes'].value_counts()"
   ]
  },
  {
   "cell_type": "code",
   "execution_count": 310,
   "id": "ac491c3f",
   "metadata": {},
   "outputs": [
    {
     "data": {
      "text/plain": [
       "243"
      ]
     },
     "execution_count": 310,
     "metadata": {},
     "output_type": "execute_result"
    }
   ],
   "source": [
    "df1['Classes'].value_counts().sum()"
   ]
  },
  {
   "cell_type": "code",
   "execution_count": 315,
   "id": "79efdf67",
   "metadata": {},
   "outputs": [
    {
     "data": {
      "text/plain": [
       "137.76"
      ]
     },
     "execution_count": 315,
     "metadata": {},
     "output_type": "execute_result"
    }
   ],
   "source": [
    "246/100*56"
   ]
  },
  {
   "cell_type": "code",
   "execution_count": 309,
   "id": "5b76516f",
   "metadata": {},
   "outputs": [
    {
     "data": {
      "text/plain": [
       "<AxesSubplot: xlabel='Classes', ylabel='count'>"
      ]
     },
     "execution_count": 309,
     "metadata": {},
     "output_type": "execute_result"
    },
    {
     "data": {
      "image/png": "[encoded data removed]",
      "text/plain": [
       "<Figure size 432x288 with 1 Axes>"
      ]
     },
     "metadata": {
      "needs_background": "light"
     },
     "output_type": "display_data"
    }
   ],
   "source": [
    "sns.countplot(df1['Classes'])"
   ]
  },
  {
   "cell_type": "markdown",
   "id": "ca78e127",
   "metadata": {},
   "source": [
    "## Observation\n",
    "\n",
    "* This lookes like imlanaced data set but we can't take this as Imbalanced dataset.\n",
    "* Becausue it's allowed to tae 60:40 ratio.\n",
    "* So we take this as a BALANCED dataset"
   ]
  },
  {
   "cell_type": "code",
   "execution_count": 324,
   "id": "aba40d92",
   "metadata": {},
   "outputs": [],
   "source": [
    "#Let's now create NUMERIC and CATEGORICAL Feature.\n",
    "num_columns =[feature for feature in df1.columns if df1[feature].dtypes !='object']\n",
    "cat_columns =[feature for feature in df1.columns if df1[feature].dtypes == 'object']"
   ]
  },
  {
   "cell_type": "code",
   "execution_count": 325,
   "id": "210c1959",
   "metadata": {},
   "outputs": [
    {
     "data": {
      "text/plain": [
       "['day',\n",
       " 'month',\n",
       " 'year',\n",
       " 'Temperature',\n",
       " ' RH',\n",
       " ' Ws',\n",
       " 'Rain ',\n",
       " 'FFMC',\n",
       " 'DMC',\n",
       " 'DC',\n",
       " 'ISI',\n",
       " 'BUI',\n",
       " 'FWI',\n",
       " 'Classes']"
      ]
     },
     "execution_count": 325,
     "metadata": {},
     "output_type": "execute_result"
    }
   ],
   "source": [
    "num_columns"
   ]
  },
  {
   "cell_type": "code",
   "execution_count": 326,
   "id": "7cd31c09",
   "metadata": {},
   "outputs": [
    {
     "data": {
      "text/plain": [
       "['Region']"
      ]
     },
     "execution_count": 326,
     "metadata": {},
     "output_type": "execute_result"
    }
   ],
   "source": [
    "cat_columns"
   ]
  },
  {
   "cell_type": "code",
   "execution_count": 331,
   "id": "c28fdbbb",
   "metadata": {},
   "outputs": [
    {
     "data": {
      "text/plain": [
       "(243, 15)"
      ]
     },
     "execution_count": 331,
     "metadata": {},
     "output_type": "execute_result"
    }
   ],
   "source": [
    "df1.shape #shape of the data is ROWS = 243, COLUMNS = 15"
   ]
  },
  {
   "cell_type": "markdown",
   "id": "d85c0788",
   "metadata": {},
   "source": [
    "## Univariate Analysis"
   ]
  },
  {
   "cell_type": "code",
   "execution_count": 349,
   "id": "c42ee718",
   "metadata": {},
   "outputs": [
    {
     "data": {
      "image/png": "[encoded data removed]",
      "text/plain": [
       "<Figure size 1440x3600 with 14 Axes>"
      ]
     },
     "metadata": {},
     "output_type": "display_data"
    }
   ],
   "source": [
    "plt.figure(figsize=(20,50), facecolor='white')\n",
    "plt.suptitle('UNIVARIATE ANALYSIS ON NUMERIC COLUMN', fontsize=20, fontweight='bold')\n",
    "\n",
    "for i in range(0, len(num_columns)):\n",
    "    plt.subplot(7,2,i+1)\n",
    "    sns.distplot(df1[num_columns[i]])\n",
    "    plt.xlabel(num_columns[i], fontsize=20)\n"
   ]
  },
  {
   "cell_type": "code",
   "execution_count": 352,
   "id": "7b0dbfd7",
   "metadata": {},
   "outputs": [
    {
     "data": {
      "text/html": [
       "<div>\n",
       "<style scoped>\n",
       "    .dataframe tbody tr th:only-of-type {\n",
       "        vertical-align: middle;\n",
       "    }\n",
       "\n",
       "    .dataframe tbody tr th {\n",
       "        vertical-align: top;\n",
       "    }\n",
       "\n",
       "    .dataframe thead th {\n",
       "        text-align: right;\n",
       "    }\n",
       "</style>\n",
       "<table border=\"1\" class=\"dataframe\">\n",
       "  <thead>\n",
       "    <tr style=\"text-align: right;\">\n",
       "      <th></th>\n",
       "      <th>day</th>\n",
       "      <th>month</th>\n",
       "      <th>year</th>\n",
       "      <th>Temperature</th>\n",
       "      <th>RH</th>\n",
       "      <th>Ws</th>\n",
       "      <th>Rain</th>\n",
       "      <th>FFMC</th>\n",
       "      <th>DMC</th>\n",
       "      <th>DC</th>\n",
       "      <th>ISI</th>\n",
       "      <th>BUI</th>\n",
       "      <th>FWI</th>\n",
       "      <th>Classes</th>\n",
       "    </tr>\n",
       "  </thead>\n",
       "  <tbody>\n",
       "    <tr>\n",
       "      <th>count</th>\n",
       "      <td>243.000000</td>\n",
       "      <td>243.000000</td>\n",
       "      <td>243.0</td>\n",
       "      <td>243.000000</td>\n",
       "      <td>243.000000</td>\n",
       "      <td>243.000000</td>\n",
       "      <td>243.000000</td>\n",
       "      <td>243.000000</td>\n",
       "      <td>243.000000</td>\n",
       "      <td>243.000000</td>\n",
       "      <td>243.000000</td>\n",
       "      <td>243.000000</td>\n",
       "      <td>243.000000</td>\n",
       "      <td>243.000000</td>\n",
       "    </tr>\n",
       "    <tr>\n",
       "      <th>mean</th>\n",
       "      <td>15.761317</td>\n",
       "      <td>7.502058</td>\n",
       "      <td>2012.0</td>\n",
       "      <td>32.152263</td>\n",
       "      <td>62.041152</td>\n",
       "      <td>15.493827</td>\n",
       "      <td>0.762963</td>\n",
       "      <td>77.842387</td>\n",
       "      <td>14.680658</td>\n",
       "      <td>49.430864</td>\n",
       "      <td>4.742387</td>\n",
       "      <td>16.690535</td>\n",
       "      <td>7.035391</td>\n",
       "      <td>0.563786</td>\n",
       "    </tr>\n",
       "    <tr>\n",
       "      <th>std</th>\n",
       "      <td>8.842552</td>\n",
       "      <td>1.114793</td>\n",
       "      <td>0.0</td>\n",
       "      <td>3.628039</td>\n",
       "      <td>14.828160</td>\n",
       "      <td>2.811385</td>\n",
       "      <td>2.003207</td>\n",
       "      <td>14.349641</td>\n",
       "      <td>12.393040</td>\n",
       "      <td>47.665606</td>\n",
       "      <td>4.154234</td>\n",
       "      <td>14.228421</td>\n",
       "      <td>7.440568</td>\n",
       "      <td>0.496938</td>\n",
       "    </tr>\n",
       "    <tr>\n",
       "      <th>min</th>\n",
       "      <td>1.000000</td>\n",
       "      <td>6.000000</td>\n",
       "      <td>2012.0</td>\n",
       "      <td>22.000000</td>\n",
       "      <td>21.000000</td>\n",
       "      <td>6.000000</td>\n",
       "      <td>0.000000</td>\n",
       "      <td>28.600000</td>\n",
       "      <td>0.700000</td>\n",
       "      <td>6.900000</td>\n",
       "      <td>0.000000</td>\n",
       "      <td>1.100000</td>\n",
       "      <td>0.000000</td>\n",
       "      <td>0.000000</td>\n",
       "    </tr>\n",
       "    <tr>\n",
       "      <th>25%</th>\n",
       "      <td>8.000000</td>\n",
       "      <td>7.000000</td>\n",
       "      <td>2012.0</td>\n",
       "      <td>30.000000</td>\n",
       "      <td>52.500000</td>\n",
       "      <td>14.000000</td>\n",
       "      <td>0.000000</td>\n",
       "      <td>71.850000</td>\n",
       "      <td>5.800000</td>\n",
       "      <td>12.350000</td>\n",
       "      <td>1.400000</td>\n",
       "      <td>6.000000</td>\n",
       "      <td>0.700000</td>\n",
       "      <td>0.000000</td>\n",
       "    </tr>\n",
       "    <tr>\n",
       "      <th>50%</th>\n",
       "      <td>16.000000</td>\n",
       "      <td>8.000000</td>\n",
       "      <td>2012.0</td>\n",
       "      <td>32.000000</td>\n",
       "      <td>63.000000</td>\n",
       "      <td>15.000000</td>\n",
       "      <td>0.000000</td>\n",
       "      <td>83.300000</td>\n",
       "      <td>11.300000</td>\n",
       "      <td>33.100000</td>\n",
       "      <td>3.500000</td>\n",
       "      <td>12.400000</td>\n",
       "      <td>4.200000</td>\n",
       "      <td>1.000000</td>\n",
       "    </tr>\n",
       "    <tr>\n",
       "      <th>75%</th>\n",
       "      <td>23.000000</td>\n",
       "      <td>8.000000</td>\n",
       "      <td>2012.0</td>\n",
       "      <td>35.000000</td>\n",
       "      <td>73.500000</td>\n",
       "      <td>17.000000</td>\n",
       "      <td>0.500000</td>\n",
       "      <td>88.300000</td>\n",
       "      <td>20.800000</td>\n",
       "      <td>69.100000</td>\n",
       "      <td>7.250000</td>\n",
       "      <td>22.650000</td>\n",
       "      <td>11.450000</td>\n",
       "      <td>1.000000</td>\n",
       "    </tr>\n",
       "    <tr>\n",
       "      <th>max</th>\n",
       "      <td>31.000000</td>\n",
       "      <td>9.000000</td>\n",
       "      <td>2012.0</td>\n",
       "      <td>42.000000</td>\n",
       "      <td>90.000000</td>\n",
       "      <td>29.000000</td>\n",
       "      <td>16.800000</td>\n",
       "      <td>96.000000</td>\n",
       "      <td>65.900000</td>\n",
       "      <td>220.400000</td>\n",
       "      <td>19.000000</td>\n",
       "      <td>68.000000</td>\n",
       "      <td>31.100000</td>\n",
       "      <td>1.000000</td>\n",
       "    </tr>\n",
       "  </tbody>\n",
       "</table>\n",
       "</div>"
      ],
      "text/plain": [
       "              day       month    year  Temperature          RH          Ws  \\\n",
       "count  243.000000  243.000000   243.0   243.000000  243.000000  243.000000   \n",
       "mean    15.761317    7.502058  2012.0    32.152263   62.041152   15.493827   \n",
       "std      8.842552    1.114793     0.0     3.628039   14.828160    2.811385   \n",
       "min      1.000000    6.000000  2012.0    22.000000   21.000000    6.000000   \n",
       "25%      8.000000    7.000000  2012.0    30.000000   52.500000   14.000000   \n",
       "50%     16.000000    8.000000  2012.0    32.000000   63.000000   15.000000   \n",
       "75%     23.000000    8.000000  2012.0    35.000000   73.500000   17.000000   \n",
       "max     31.000000    9.000000  2012.0    42.000000   90.000000   29.000000   \n",
       "\n",
       "            Rain         FFMC         DMC          DC         ISI         BUI  \\\n",
       "count  243.000000  243.000000  243.000000  243.000000  243.000000  243.000000   \n",
       "mean     0.762963   77.842387   14.680658   49.430864    4.742387   16.690535   \n",
       "std      2.003207   14.349641   12.393040   47.665606    4.154234   14.228421   \n",
       "min      0.000000   28.600000    0.700000    6.900000    0.000000    1.100000   \n",
       "25%      0.000000   71.850000    5.800000   12.350000    1.400000    6.000000   \n",
       "50%      0.000000   83.300000   11.300000   33.100000    3.500000   12.400000   \n",
       "75%      0.500000   88.300000   20.800000   69.100000    7.250000   22.650000   \n",
       "max     16.800000   96.000000   65.900000  220.400000   19.000000   68.000000   \n",
       "\n",
       "              FWI     Classes  \n",
       "count  243.000000  243.000000  \n",
       "mean     7.035391    0.563786  \n",
       "std      7.440568    0.496938  \n",
       "min      0.000000    0.000000  \n",
       "25%      0.700000    0.000000  \n",
       "50%      4.200000    1.000000  \n",
       "75%     11.450000    1.000000  \n",
       "max     31.100000    1.000000  "
      ]
     },
     "execution_count": 352,
     "metadata": {},
     "output_type": "execute_result"
    }
   ],
   "source": [
    "df1.describe()"
   ]
  },
  {
   "cell_type": "markdown",
   "id": "9f2824e0",
   "metadata": {},
   "source": [
    "## OUTLIERS Observation \n",
    "\n",
    "* Fine Fuel Moisture Code (FFMC) index from the FWI system: min  = 28.6 to  max = 92.5, but here we have min = 28.6 and max = 96 that means here in Maximum side we have Outliers.\n",
    "\n",
    "* So as per Feature Description given on UCI, I find that DMC Minimum value is 1.1 and Max is 65.9, But here in DMC we have min =  0.7 and max = 65.9 that means we have Outliers on MINIMUM SIDE.\n",
    "\n",
    "* And as per DC i find that the minimum DC is 7 to 220.4 but here as per above observation i can say that DC min= 6.90 and Max=220.40, So in Minimum side we have OUTLIERS to remove.\n",
    "\n",
    "* In ISI we have min 0 and max 18.5 but here as per observation we can see that min =0 but max =19 that means we have Outliers here also.\n"
   ]
  },
  {
   "cell_type": "code",
   "execution_count": 361,
   "id": "6ca443e2",
   "metadata": {},
   "outputs": [
    {
     "data": {
      "text/plain": [
       "0.7629629629629628"
      ]
     },
     "execution_count": 361,
     "metadata": {},
     "output_type": "execute_result"
    }
   ],
   "source": [
    "df1['Rain '].mean()"
   ]
  },
  {
   "cell_type": "markdown",
   "id": "6b19b5c0",
   "metadata": {},
   "source": [
    "* Fine Fuel Moisture Code (FFMC) index from the FWI system: min = 28.6 to max = 92.5, but here we have min = 28.6 and max = 96 that means here in Maximum side we have Outliers. So we now get exact max=92.2 at quantile 0.953"
   ]
  },
  {
   "cell_type": "code",
   "execution_count": 462,
   "id": "432a63be",
   "metadata": {},
   "outputs": [
    {
     "data": {
      "text/plain": [
       "18.50027"
      ]
     },
     "execution_count": 462,
     "metadata": {},
     "output_type": "execute_result"
    }
   ],
   "source": [
    "df1['ISI'].quantile(0.99587)"
   ]
  },
  {
   "cell_type": "code",
   "execution_count": 411,
   "id": "343561da",
   "metadata": {},
   "outputs": [
    {
     "data": {
      "text/plain": [
       "220.4"
      ]
     },
     "execution_count": 411,
     "metadata": {},
     "output_type": "execute_result"
    }
   ],
   "source": [
    "df1['DC'].quantile(1.0)"
   ]
  },
  {
   "cell_type": "code",
   "execution_count": 467,
   "id": "3eda2d4d",
   "metadata": {},
   "outputs": [],
   "source": [
    "#so here we are taking max=92.2 on and we find this on quantile=0.953. So taking all the lower and equal to data with 92.2.\n",
    "# why we are taking all the lower data because it dosen't have any Outlier on Lower side.\n",
    "q = df1['FFMC'].quantile(0.953)\n",
    "data_clean = df1[df1['FFMC']<=q]\n",
    "\n",
    "#In DMC we have outlier on Minimum side so let's remove this. we want 1.1 as MIN but in DMC we have 0.7.\n",
    "#we get MIN 1.1 at quantile 015\n",
    "q=df1['DMC'].quantile(0.015)\n",
    "data_clean = data_clean[data_clean['DMC']>=q]\n",
    "\n",
    "#In DC we have min as 7 but here in data we have min as 6.90\n",
    "# we get MIN 7 on quantile 0.005\n",
    "q= df1['DC'].quantile(0.005)\n",
    "data_clean = data_clean[data_clean['DC']>=q]\n",
    "\n",
    "#In ISI we have max=18.5 but in data we got max=19 so let remove till 18.5\n",
    "# we get max = 18.5 on quntile 0.99587\n",
    "q = df1['ISI'].quantile(0.99587)\n",
    "data_clean = data_clean[data_clean['ISI']<=q]\n"
   ]
  },
  {
   "cell_type": "code",
   "execution_count": 468,
   "id": "6bd185af",
   "metadata": {},
   "outputs": [
    {
     "data": {
      "text/html": [
       "<div>\n",
       "<style scoped>\n",
       "    .dataframe tbody tr th:only-of-type {\n",
       "        vertical-align: middle;\n",
       "    }\n",
       "\n",
       "    .dataframe tbody tr th {\n",
       "        vertical-align: top;\n",
       "    }\n",
       "\n",
       "    .dataframe thead th {\n",
       "        text-align: right;\n",
       "    }\n",
       "</style>\n",
       "<table border=\"1\" class=\"dataframe\">\n",
       "  <thead>\n",
       "    <tr style=\"text-align: right;\">\n",
       "      <th></th>\n",
       "      <th>day</th>\n",
       "      <th>month</th>\n",
       "      <th>year</th>\n",
       "      <th>Temperature</th>\n",
       "      <th>RH</th>\n",
       "      <th>Ws</th>\n",
       "      <th>Rain</th>\n",
       "      <th>FFMC</th>\n",
       "      <th>DMC</th>\n",
       "      <th>DC</th>\n",
       "      <th>ISI</th>\n",
       "      <th>BUI</th>\n",
       "      <th>FWI</th>\n",
       "      <th>Region</th>\n",
       "      <th>Classes</th>\n",
       "    </tr>\n",
       "  </thead>\n",
       "  <tbody>\n",
       "    <tr>\n",
       "      <th>0</th>\n",
       "      <td>1</td>\n",
       "      <td>6</td>\n",
       "      <td>2012</td>\n",
       "      <td>29</td>\n",
       "      <td>57</td>\n",
       "      <td>18</td>\n",
       "      <td>0.0</td>\n",
       "      <td>65.7</td>\n",
       "      <td>3.4</td>\n",
       "      <td>7.6</td>\n",
       "      <td>1.3</td>\n",
       "      <td>3.4</td>\n",
       "      <td>0.5</td>\n",
       "      <td>Bejaia Region</td>\n",
       "      <td>0</td>\n",
       "    </tr>\n",
       "    <tr>\n",
       "      <th>1</th>\n",
       "      <td>2</td>\n",
       "      <td>6</td>\n",
       "      <td>2012</td>\n",
       "      <td>29</td>\n",
       "      <td>61</td>\n",
       "      <td>13</td>\n",
       "      <td>1.3</td>\n",
       "      <td>64.4</td>\n",
       "      <td>4.1</td>\n",
       "      <td>7.6</td>\n",
       "      <td>1.0</td>\n",
       "      <td>3.9</td>\n",
       "      <td>0.4</td>\n",
       "      <td>Bejaia Region</td>\n",
       "      <td>0</td>\n",
       "    </tr>\n",
       "    <tr>\n",
       "      <th>2</th>\n",
       "      <td>3</td>\n",
       "      <td>6</td>\n",
       "      <td>2012</td>\n",
       "      <td>26</td>\n",
       "      <td>82</td>\n",
       "      <td>22</td>\n",
       "      <td>13.1</td>\n",
       "      <td>47.1</td>\n",
       "      <td>2.5</td>\n",
       "      <td>7.1</td>\n",
       "      <td>0.3</td>\n",
       "      <td>2.7</td>\n",
       "      <td>0.1</td>\n",
       "      <td>Bejaia Region</td>\n",
       "      <td>0</td>\n",
       "    </tr>\n",
       "    <tr>\n",
       "      <th>4</th>\n",
       "      <td>5</td>\n",
       "      <td>6</td>\n",
       "      <td>2012</td>\n",
       "      <td>27</td>\n",
       "      <td>77</td>\n",
       "      <td>16</td>\n",
       "      <td>0.0</td>\n",
       "      <td>64.8</td>\n",
       "      <td>3.0</td>\n",
       "      <td>14.2</td>\n",
       "      <td>1.2</td>\n",
       "      <td>3.9</td>\n",
       "      <td>0.5</td>\n",
       "      <td>Bejaia Region</td>\n",
       "      <td>0</td>\n",
       "    </tr>\n",
       "    <tr>\n",
       "      <th>5</th>\n",
       "      <td>6</td>\n",
       "      <td>6</td>\n",
       "      <td>2012</td>\n",
       "      <td>31</td>\n",
       "      <td>67</td>\n",
       "      <td>14</td>\n",
       "      <td>0.0</td>\n",
       "      <td>82.6</td>\n",
       "      <td>5.8</td>\n",
       "      <td>22.2</td>\n",
       "      <td>3.1</td>\n",
       "      <td>7.0</td>\n",
       "      <td>2.5</td>\n",
       "      <td>Bejaia Region</td>\n",
       "      <td>1</td>\n",
       "    </tr>\n",
       "    <tr>\n",
       "      <th>...</th>\n",
       "      <td>...</td>\n",
       "      <td>...</td>\n",
       "      <td>...</td>\n",
       "      <td>...</td>\n",
       "      <td>...</td>\n",
       "      <td>...</td>\n",
       "      <td>...</td>\n",
       "      <td>...</td>\n",
       "      <td>...</td>\n",
       "      <td>...</td>\n",
       "      <td>...</td>\n",
       "      <td>...</td>\n",
       "      <td>...</td>\n",
       "      <td>...</td>\n",
       "      <td>...</td>\n",
       "    </tr>\n",
       "    <tr>\n",
       "      <th>239</th>\n",
       "      <td>26</td>\n",
       "      <td>9</td>\n",
       "      <td>2012</td>\n",
       "      <td>30</td>\n",
       "      <td>65</td>\n",
       "      <td>14</td>\n",
       "      <td>0.0</td>\n",
       "      <td>85.4</td>\n",
       "      <td>16.0</td>\n",
       "      <td>44.5</td>\n",
       "      <td>4.5</td>\n",
       "      <td>16.9</td>\n",
       "      <td>6.5</td>\n",
       "      <td>Sidi-Bel Abbes Region</td>\n",
       "      <td>1</td>\n",
       "    </tr>\n",
       "    <tr>\n",
       "      <th>240</th>\n",
       "      <td>27</td>\n",
       "      <td>9</td>\n",
       "      <td>2012</td>\n",
       "      <td>28</td>\n",
       "      <td>87</td>\n",
       "      <td>15</td>\n",
       "      <td>4.4</td>\n",
       "      <td>41.1</td>\n",
       "      <td>6.5</td>\n",
       "      <td>8.0</td>\n",
       "      <td>0.1</td>\n",
       "      <td>6.2</td>\n",
       "      <td>0.0</td>\n",
       "      <td>Sidi-Bel Abbes Region</td>\n",
       "      <td>0</td>\n",
       "    </tr>\n",
       "    <tr>\n",
       "      <th>241</th>\n",
       "      <td>28</td>\n",
       "      <td>9</td>\n",
       "      <td>2012</td>\n",
       "      <td>27</td>\n",
       "      <td>87</td>\n",
       "      <td>29</td>\n",
       "      <td>0.5</td>\n",
       "      <td>45.9</td>\n",
       "      <td>3.5</td>\n",
       "      <td>7.9</td>\n",
       "      <td>0.4</td>\n",
       "      <td>3.4</td>\n",
       "      <td>0.2</td>\n",
       "      <td>Sidi-Bel Abbes Region</td>\n",
       "      <td>0</td>\n",
       "    </tr>\n",
       "    <tr>\n",
       "      <th>242</th>\n",
       "      <td>29</td>\n",
       "      <td>9</td>\n",
       "      <td>2012</td>\n",
       "      <td>24</td>\n",
       "      <td>54</td>\n",
       "      <td>18</td>\n",
       "      <td>0.1</td>\n",
       "      <td>79.7</td>\n",
       "      <td>4.3</td>\n",
       "      <td>15.2</td>\n",
       "      <td>1.7</td>\n",
       "      <td>5.1</td>\n",
       "      <td>0.7</td>\n",
       "      <td>Sidi-Bel Abbes Region</td>\n",
       "      <td>0</td>\n",
       "    </tr>\n",
       "    <tr>\n",
       "      <th>243</th>\n",
       "      <td>30</td>\n",
       "      <td>9</td>\n",
       "      <td>2012</td>\n",
       "      <td>24</td>\n",
       "      <td>64</td>\n",
       "      <td>15</td>\n",
       "      <td>0.2</td>\n",
       "      <td>67.3</td>\n",
       "      <td>3.8</td>\n",
       "      <td>16.5</td>\n",
       "      <td>1.2</td>\n",
       "      <td>4.8</td>\n",
       "      <td>0.5</td>\n",
       "      <td>Sidi-Bel Abbes Region</td>\n",
       "      <td>0</td>\n",
       "    </tr>\n",
       "  </tbody>\n",
       "</table>\n",
       "<p>227 rows × 15 columns</p>\n",
       "</div>"
      ],
      "text/plain": [
       "     day  month  year  Temperature   RH   Ws  Rain   FFMC   DMC    DC  ISI  \\\n",
       "0      1      6  2012           29   57   18    0.0  65.7   3.4   7.6  1.3   \n",
       "1      2      6  2012           29   61   13    1.3  64.4   4.1   7.6  1.0   \n",
       "2      3      6  2012           26   82   22   13.1  47.1   2.5   7.1  0.3   \n",
       "4      5      6  2012           27   77   16    0.0  64.8   3.0  14.2  1.2   \n",
       "5      6      6  2012           31   67   14    0.0  82.6   5.8  22.2  3.1   \n",
       "..   ...    ...   ...          ...  ...  ...    ...   ...   ...   ...  ...   \n",
       "239   26      9  2012           30   65   14    0.0  85.4  16.0  44.5  4.5   \n",
       "240   27      9  2012           28   87   15    4.4  41.1   6.5   8.0  0.1   \n",
       "241   28      9  2012           27   87   29    0.5  45.9   3.5   7.9  0.4   \n",
       "242   29      9  2012           24   54   18    0.1  79.7   4.3  15.2  1.7   \n",
       "243   30      9  2012           24   64   15    0.2  67.3   3.8  16.5  1.2   \n",
       "\n",
       "      BUI  FWI                 Region  Classes  \n",
       "0     3.4  0.5          Bejaia Region        0  \n",
       "1     3.9  0.4          Bejaia Region        0  \n",
       "2     2.7  0.1          Bejaia Region        0  \n",
       "4     3.9  0.5          Bejaia Region        0  \n",
       "5     7.0  2.5          Bejaia Region        1  \n",
       "..    ...  ...                    ...      ...  \n",
       "239  16.9  6.5  Sidi-Bel Abbes Region        1  \n",
       "240   6.2  0.0  Sidi-Bel Abbes Region        0  \n",
       "241   3.4  0.2  Sidi-Bel Abbes Region        0  \n",
       "242   5.1  0.7  Sidi-Bel Abbes Region        0  \n",
       "243   4.8  0.5  Sidi-Bel Abbes Region        0  \n",
       "\n",
       "[227 rows x 15 columns]"
      ]
     },
     "execution_count": 468,
     "metadata": {},
     "output_type": "execute_result"
    }
   ],
   "source": [
    "data_clean"
   ]
  },
  {
   "cell_type": "markdown",
   "id": "e038fe5d",
   "metadata": {},
   "source": [
    "# Observation\n",
    "\n",
    "* So here we clean data as per given MIN and MAX on UCI side.\n",
    "* source = https://archive.ics.uci.edu/ml/datasets/Algerian+Forest+Fires+Dataset++\n",
    "\n",
    "We can also sort this with IQR and LOWER and HIGHER Fence but in some situation we need to do this type of OUTLIER REMOVING."
   ]
  },
  {
   "cell_type": "code",
   "execution_count": 516,
   "id": "5c57fe40",
   "metadata": {},
   "outputs": [
    {
     "data": {
      "image/png": "[encoded data removed]",
      "text/plain": [
       "<Figure size 1440x2880 with 14 Axes>"
      ]
     },
     "metadata": {
      "needs_background": "light"
     },
     "output_type": "display_data"
    }
   ],
   "source": [
    "plt.figure(figsize=(20,40))\n",
    "plt.suptitle(\"UNIVARIATE ANALYLYSIS ON CLEANED DATA\", fontsize=30, y=0.9)\n",
    "\n",
    "for i in range(0,len(num_columns)):\n",
    "    plt.subplot(7,2,i+1)\n",
    "    sns.distplot(data_clean[num_columns[i]])\n",
    "    plt.xlabel(num_columns[i], fontsize=20)"
   ]
  },
  {
   "cell_type": "markdown",
   "id": "b287d2c7",
   "metadata": {},
   "source": [
    "## Observation\n",
    "\n",
    "* So as per observation we can see that still we have SKEWED distribution. That means we have Outliers ?? No we don't have any Outlier this is known as TRUE OUTLIERS this is Natural values.\n"
   ]
  },
  {
   "cell_type": "code",
   "execution_count": 476,
   "id": "ba16dd3e",
   "metadata": {},
   "outputs": [
    {
     "data": {
      "text/plain": [
       "1    125\n",
       "0    102\n",
       "Name: Classes, dtype: int64"
      ]
     },
     "execution_count": 476,
     "metadata": {},
     "output_type": "execute_result"
    }
   ],
   "source": [
    "data_clean['Classes'].value_counts()"
   ]
  },
  {
   "cell_type": "code",
   "execution_count": 477,
   "id": "4114eef5",
   "metadata": {},
   "outputs": [
    {
     "data": {
      "text/plain": [
       "Bejaia Region            119\n",
       "Sidi-Bel Abbes Region    108\n",
       "Name: Region, dtype: int64"
      ]
     },
     "execution_count": 477,
     "metadata": {},
     "output_type": "execute_result"
    }
   ],
   "source": [
    "data_clean['Region'].value_counts()"
   ]
  },
  {
   "cell_type": "code",
   "execution_count": 499,
   "id": "c9fff39d",
   "metadata": {},
   "outputs": [
    {
     "data": {
      "text/html": [
       "<div>\n",
       "<style scoped>\n",
       "    .dataframe tbody tr th:only-of-type {\n",
       "        vertical-align: middle;\n",
       "    }\n",
       "\n",
       "    .dataframe tbody tr th {\n",
       "        vertical-align: top;\n",
       "    }\n",
       "\n",
       "    .dataframe thead th {\n",
       "        text-align: right;\n",
       "    }\n",
       "</style>\n",
       "<table border=\"1\" class=\"dataframe\">\n",
       "  <thead>\n",
       "    <tr style=\"text-align: right;\">\n",
       "      <th></th>\n",
       "      <th></th>\n",
       "      <th>day</th>\n",
       "      <th>month</th>\n",
       "      <th>year</th>\n",
       "      <th>Temperature</th>\n",
       "      <th>RH</th>\n",
       "      <th>Ws</th>\n",
       "      <th>Rain</th>\n",
       "      <th>FFMC</th>\n",
       "      <th>DMC</th>\n",
       "      <th>DC</th>\n",
       "      <th>ISI</th>\n",
       "      <th>BUI</th>\n",
       "      <th>FWI</th>\n",
       "    </tr>\n",
       "    <tr>\n",
       "      <th>Region</th>\n",
       "      <th>Classes</th>\n",
       "      <th></th>\n",
       "      <th></th>\n",
       "      <th></th>\n",
       "      <th></th>\n",
       "      <th></th>\n",
       "      <th></th>\n",
       "      <th></th>\n",
       "      <th></th>\n",
       "      <th></th>\n",
       "      <th></th>\n",
       "      <th></th>\n",
       "      <th></th>\n",
       "      <th></th>\n",
       "    </tr>\n",
       "  </thead>\n",
       "  <tbody>\n",
       "    <tr>\n",
       "      <th rowspan=\"2\" valign=\"top\">Bejaia Region</th>\n",
       "      <th>0</th>\n",
       "      <td>60</td>\n",
       "      <td>60</td>\n",
       "      <td>60</td>\n",
       "      <td>60</td>\n",
       "      <td>60</td>\n",
       "      <td>60</td>\n",
       "      <td>60</td>\n",
       "      <td>60</td>\n",
       "      <td>60</td>\n",
       "      <td>60</td>\n",
       "      <td>60</td>\n",
       "      <td>60</td>\n",
       "      <td>60</td>\n",
       "    </tr>\n",
       "    <tr>\n",
       "      <th>1</th>\n",
       "      <td>59</td>\n",
       "      <td>59</td>\n",
       "      <td>59</td>\n",
       "      <td>59</td>\n",
       "      <td>59</td>\n",
       "      <td>59</td>\n",
       "      <td>59</td>\n",
       "      <td>59</td>\n",
       "      <td>59</td>\n",
       "      <td>59</td>\n",
       "      <td>59</td>\n",
       "      <td>59</td>\n",
       "      <td>59</td>\n",
       "    </tr>\n",
       "    <tr>\n",
       "      <th rowspan=\"2\" valign=\"top\">Sidi-Bel Abbes Region</th>\n",
       "      <th>0</th>\n",
       "      <td>42</td>\n",
       "      <td>42</td>\n",
       "      <td>42</td>\n",
       "      <td>42</td>\n",
       "      <td>42</td>\n",
       "      <td>42</td>\n",
       "      <td>42</td>\n",
       "      <td>42</td>\n",
       "      <td>42</td>\n",
       "      <td>42</td>\n",
       "      <td>42</td>\n",
       "      <td>42</td>\n",
       "      <td>42</td>\n",
       "    </tr>\n",
       "    <tr>\n",
       "      <th>1</th>\n",
       "      <td>66</td>\n",
       "      <td>66</td>\n",
       "      <td>66</td>\n",
       "      <td>66</td>\n",
       "      <td>66</td>\n",
       "      <td>66</td>\n",
       "      <td>66</td>\n",
       "      <td>66</td>\n",
       "      <td>66</td>\n",
       "      <td>66</td>\n",
       "      <td>66</td>\n",
       "      <td>66</td>\n",
       "      <td>66</td>\n",
       "    </tr>\n",
       "  </tbody>\n",
       "</table>\n",
       "</div>"
      ],
      "text/plain": [
       "                               day  month  year  Temperature   RH   Ws  Rain   \\\n",
       "Region                Classes                                                   \n",
       "Bejaia Region         0         60     60    60           60   60   60     60   \n",
       "                      1         59     59    59           59   59   59     59   \n",
       "Sidi-Bel Abbes Region 0         42     42    42           42   42   42     42   \n",
       "                      1         66     66    66           66   66   66     66   \n",
       "\n",
       "                               FFMC  DMC  DC  ISI  BUI  FWI  \n",
       "Region                Classes                                \n",
       "Bejaia Region         0          60   60  60   60   60   60  \n",
       "                      1          59   59  59   59   59   59  \n",
       "Sidi-Bel Abbes Region 0          42   42  42   42   42   42  \n",
       "                      1          66   66  66   66   66   66  "
      ]
     },
     "execution_count": 499,
     "metadata": {},
     "output_type": "execute_result"
    }
   ],
   "source": [
    "data_clean.groupby(['Region', 'Classes']).count()"
   ]
  },
  {
   "cell_type": "markdown",
   "id": "94a5f7ae",
   "metadata": {},
   "source": [
    "## Observation\n",
    "\n",
    "* From this we can easily say that in \"Bejaia Reion\" We have 50% Fire and 50% No-Fire\n",
    "* In \"Sidi-Bel Abbes Region\" we can say that we have 35% Fire and 65% No-Fire "
   ]
  },
  {
   "cell_type": "code",
   "execution_count": 517,
   "id": "8a2d4cd1",
   "metadata": {},
   "outputs": [
    {
     "data": {
      "image/png": "[encoded data removed]",
      "text/plain": [
       "<Figure size 1440x720 with 1 Axes>"
      ]
     },
     "metadata": {
      "needs_background": "light"
     },
     "output_type": "display_data"
    }
   ],
   "source": [
    "plt.figure(figsize=(20,10))\n",
    "plt.suptitle(\"UNIVARIATE ANALYSIS ON CATEGORICAL COLUMN\", fontsize=20, y=1.)\n",
    "\n",
    "for i in range(0,len(cat_columns)):\n",
    "    plt.subplot(2,1,i+1)\n",
    "    sns.countplot(data_clean[cat_columns[i]])\n",
    "    plt.xlabel(cat_columns[i])"
   ]
  },
  {
   "cell_type": "markdown",
   "id": "cd45159e",
   "metadata": {},
   "source": [
    "# Bi-Variate Analysis"
   ]
  },
  {
   "cell_type": "code",
   "execution_count": 518,
   "id": "26e3e4cf",
   "metadata": {},
   "outputs": [
    {
     "data": {
      "text/html": [
       "<div>\n",
       "<style scoped>\n",
       "    .dataframe tbody tr th:only-of-type {\n",
       "        vertical-align: middle;\n",
       "    }\n",
       "\n",
       "    .dataframe tbody tr th {\n",
       "        vertical-align: top;\n",
       "    }\n",
       "\n",
       "    .dataframe thead th {\n",
       "        text-align: right;\n",
       "    }\n",
       "</style>\n",
       "<table border=\"1\" class=\"dataframe\">\n",
       "  <thead>\n",
       "    <tr style=\"text-align: right;\">\n",
       "      <th></th>\n",
       "      <th>day</th>\n",
       "      <th>month</th>\n",
       "      <th>year</th>\n",
       "      <th>Temperature</th>\n",
       "      <th>RH</th>\n",
       "      <th>Ws</th>\n",
       "      <th>Rain</th>\n",
       "      <th>FFMC</th>\n",
       "      <th>DMC</th>\n",
       "      <th>DC</th>\n",
       "      <th>ISI</th>\n",
       "      <th>BUI</th>\n",
       "      <th>FWI</th>\n",
       "      <th>Classes</th>\n",
       "    </tr>\n",
       "  </thead>\n",
       "  <tbody>\n",
       "    <tr>\n",
       "      <th>day</th>\n",
       "      <td>1.000000</td>\n",
       "      <td>0.033138</td>\n",
       "      <td>NaN</td>\n",
       "      <td>0.109898</td>\n",
       "      <td>-0.093200</td>\n",
       "      <td>0.053071</td>\n",
       "      <td>-0.094243</td>\n",
       "      <td>0.211608</td>\n",
       "      <td>0.502110</td>\n",
       "      <td>0.525816</td>\n",
       "      <td>0.282075</td>\n",
       "      <td>0.521767</td>\n",
       "      <td>0.406396</td>\n",
       "      <td>0.210560</td>\n",
       "    </tr>\n",
       "    <tr>\n",
       "      <th>month</th>\n",
       "      <td>0.033138</td>\n",
       "      <td>1.000000</td>\n",
       "      <td>NaN</td>\n",
       "      <td>-0.066213</td>\n",
       "      <td>-0.021232</td>\n",
       "      <td>-0.032500</td>\n",
       "      <td>0.025420</td>\n",
       "      <td>0.028078</td>\n",
       "      <td>0.077135</td>\n",
       "      <td>0.140941</td>\n",
       "      <td>0.036552</td>\n",
       "      <td>0.097204</td>\n",
       "      <td>0.072592</td>\n",
       "      <td>0.020878</td>\n",
       "    </tr>\n",
       "    <tr>\n",
       "      <th>year</th>\n",
       "      <td>NaN</td>\n",
       "      <td>NaN</td>\n",
       "      <td>NaN</td>\n",
       "      <td>NaN</td>\n",
       "      <td>NaN</td>\n",
       "      <td>NaN</td>\n",
       "      <td>NaN</td>\n",
       "      <td>NaN</td>\n",
       "      <td>NaN</td>\n",
       "      <td>NaN</td>\n",
       "      <td>NaN</td>\n",
       "      <td>NaN</td>\n",
       "      <td>NaN</td>\n",
       "      <td>NaN</td>\n",
       "    </tr>\n",
       "    <tr>\n",
       "      <th>Temperature</th>\n",
       "      <td>0.109898</td>\n",
       "      <td>-0.066213</td>\n",
       "      <td>NaN</td>\n",
       "      <td>1.000000</td>\n",
       "      <td>-0.579629</td>\n",
       "      <td>-0.301866</td>\n",
       "      <td>-0.287274</td>\n",
       "      <td>0.628018</td>\n",
       "      <td>0.460465</td>\n",
       "      <td>0.389893</td>\n",
       "      <td>0.533367</td>\n",
       "      <td>0.446786</td>\n",
       "      <td>0.502446</td>\n",
       "      <td>0.479959</td>\n",
       "    </tr>\n",
       "    <tr>\n",
       "      <th>RH</th>\n",
       "      <td>-0.093200</td>\n",
       "      <td>-0.021232</td>\n",
       "      <td>NaN</td>\n",
       "      <td>-0.579629</td>\n",
       "      <td>1.000000</td>\n",
       "      <td>0.254932</td>\n",
       "      <td>0.187345</td>\n",
       "      <td>-0.594521</td>\n",
       "      <td>-0.359966</td>\n",
       "      <td>-0.226196</td>\n",
       "      <td>-0.577153</td>\n",
       "      <td>-0.320332</td>\n",
       "      <td>-0.479352</td>\n",
       "      <td>-0.374777</td>\n",
       "    </tr>\n",
       "    <tr>\n",
       "      <th>Ws</th>\n",
       "      <td>0.053071</td>\n",
       "      <td>-0.032500</td>\n",
       "      <td>NaN</td>\n",
       "      <td>-0.301866</td>\n",
       "      <td>0.254932</td>\n",
       "      <td>1.000000</td>\n",
       "      <td>0.184866</td>\n",
       "      <td>-0.183855</td>\n",
       "      <td>0.011656</td>\n",
       "      <td>0.084749</td>\n",
       "      <td>0.047128</td>\n",
       "      <td>0.041198</td>\n",
       "      <td>0.069346</td>\n",
       "      <td>-0.062348</td>\n",
       "    </tr>\n",
       "    <tr>\n",
       "      <th>Rain</th>\n",
       "      <td>-0.094243</td>\n",
       "      <td>0.025420</td>\n",
       "      <td>NaN</td>\n",
       "      <td>-0.287274</td>\n",
       "      <td>0.187345</td>\n",
       "      <td>0.184866</td>\n",
       "      <td>1.000000</td>\n",
       "      <td>-0.538028</td>\n",
       "      <td>-0.274709</td>\n",
       "      <td>-0.295724</td>\n",
       "      <td>-0.371929</td>\n",
       "      <td>-0.288747</td>\n",
       "      <td>-0.321172</td>\n",
       "      <td>-0.369954</td>\n",
       "    </tr>\n",
       "    <tr>\n",
       "      <th>FFMC</th>\n",
       "      <td>0.211608</td>\n",
       "      <td>0.028078</td>\n",
       "      <td>NaN</td>\n",
       "      <td>0.628018</td>\n",
       "      <td>-0.594521</td>\n",
       "      <td>-0.183855</td>\n",
       "      <td>-0.538028</td>\n",
       "      <td>1.000000</td>\n",
       "      <td>0.589228</td>\n",
       "      <td>0.519383</td>\n",
       "      <td>0.778377</td>\n",
       "      <td>0.585526</td>\n",
       "      <td>0.685106</td>\n",
       "      <td>0.772120</td>\n",
       "    </tr>\n",
       "    <tr>\n",
       "      <th>DMC</th>\n",
       "      <td>0.502110</td>\n",
       "      <td>0.077135</td>\n",
       "      <td>NaN</td>\n",
       "      <td>0.460465</td>\n",
       "      <td>-0.359966</td>\n",
       "      <td>0.011656</td>\n",
       "      <td>-0.274709</td>\n",
       "      <td>0.589228</td>\n",
       "      <td>1.000000</td>\n",
       "      <td>0.885642</td>\n",
       "      <td>0.725107</td>\n",
       "      <td>0.982921</td>\n",
       "      <td>0.892422</td>\n",
       "      <td>0.566794</td>\n",
       "    </tr>\n",
       "    <tr>\n",
       "      <th>DC</th>\n",
       "      <td>0.525816</td>\n",
       "      <td>0.140941</td>\n",
       "      <td>NaN</td>\n",
       "      <td>0.389893</td>\n",
       "      <td>-0.226196</td>\n",
       "      <td>0.084749</td>\n",
       "      <td>-0.295724</td>\n",
       "      <td>0.519383</td>\n",
       "      <td>0.885642</td>\n",
       "      <td>1.000000</td>\n",
       "      <td>0.612169</td>\n",
       "      <td>0.946879</td>\n",
       "      <td>0.797920</td>\n",
       "      <td>0.511012</td>\n",
       "    </tr>\n",
       "    <tr>\n",
       "      <th>ISI</th>\n",
       "      <td>0.282075</td>\n",
       "      <td>0.036552</td>\n",
       "      <td>NaN</td>\n",
       "      <td>0.533367</td>\n",
       "      <td>-0.577153</td>\n",
       "      <td>0.047128</td>\n",
       "      <td>-0.371929</td>\n",
       "      <td>0.778377</td>\n",
       "      <td>0.725107</td>\n",
       "      <td>0.612169</td>\n",
       "      <td>1.000000</td>\n",
       "      <td>0.712229</td>\n",
       "      <td>0.940718</td>\n",
       "      <td>0.782927</td>\n",
       "    </tr>\n",
       "    <tr>\n",
       "      <th>BUI</th>\n",
       "      <td>0.521767</td>\n",
       "      <td>0.097204</td>\n",
       "      <td>NaN</td>\n",
       "      <td>0.446786</td>\n",
       "      <td>-0.320332</td>\n",
       "      <td>0.041198</td>\n",
       "      <td>-0.288747</td>\n",
       "      <td>0.585526</td>\n",
       "      <td>0.982921</td>\n",
       "      <td>0.946879</td>\n",
       "      <td>0.712229</td>\n",
       "      <td>1.000000</td>\n",
       "      <td>0.889220</td>\n",
       "      <td>0.573088</td>\n",
       "    </tr>\n",
       "    <tr>\n",
       "      <th>FWI</th>\n",
       "      <td>0.406396</td>\n",
       "      <td>0.072592</td>\n",
       "      <td>NaN</td>\n",
       "      <td>0.502446</td>\n",
       "      <td>-0.479352</td>\n",
       "      <td>0.069346</td>\n",
       "      <td>-0.321172</td>\n",
       "      <td>0.685106</td>\n",
       "      <td>0.892422</td>\n",
       "      <td>0.797920</td>\n",
       "      <td>0.940718</td>\n",
       "      <td>0.889220</td>\n",
       "      <td>1.000000</td>\n",
       "      <td>0.715940</td>\n",
       "    </tr>\n",
       "    <tr>\n",
       "      <th>Classes</th>\n",
       "      <td>0.210560</td>\n",
       "      <td>0.020878</td>\n",
       "      <td>NaN</td>\n",
       "      <td>0.479959</td>\n",
       "      <td>-0.374777</td>\n",
       "      <td>-0.062348</td>\n",
       "      <td>-0.369954</td>\n",
       "      <td>0.772120</td>\n",
       "      <td>0.566794</td>\n",
       "      <td>0.511012</td>\n",
       "      <td>0.782927</td>\n",
       "      <td>0.573088</td>\n",
       "      <td>0.715940</td>\n",
       "      <td>1.000000</td>\n",
       "    </tr>\n",
       "  </tbody>\n",
       "</table>\n",
       "</div>"
      ],
      "text/plain": [
       "                  day     month  year  Temperature        RH        Ws  \\\n",
       "day          1.000000  0.033138   NaN     0.109898 -0.093200  0.053071   \n",
       "month        0.033138  1.000000   NaN    -0.066213 -0.021232 -0.032500   \n",
       "year              NaN       NaN   NaN          NaN       NaN       NaN   \n",
       "Temperature  0.109898 -0.066213   NaN     1.000000 -0.579629 -0.301866   \n",
       " RH         -0.093200 -0.021232   NaN    -0.579629  1.000000  0.254932   \n",
       " Ws          0.053071 -0.032500   NaN    -0.301866  0.254932  1.000000   \n",
       "Rain        -0.094243  0.025420   NaN    -0.287274  0.187345  0.184866   \n",
       "FFMC         0.211608  0.028078   NaN     0.628018 -0.594521 -0.183855   \n",
       "DMC          0.502110  0.077135   NaN     0.460465 -0.359966  0.011656   \n",
       "DC           0.525816  0.140941   NaN     0.389893 -0.226196  0.084749   \n",
       "ISI          0.282075  0.036552   NaN     0.533367 -0.577153  0.047128   \n",
       "BUI          0.521767  0.097204   NaN     0.446786 -0.320332  0.041198   \n",
       "FWI          0.406396  0.072592   NaN     0.502446 -0.479352  0.069346   \n",
       "Classes      0.210560  0.020878   NaN     0.479959 -0.374777 -0.062348   \n",
       "\n",
       "                Rain       FFMC       DMC        DC       ISI       BUI  \\\n",
       "day         -0.094243  0.211608  0.502110  0.525816  0.282075  0.521767   \n",
       "month        0.025420  0.028078  0.077135  0.140941  0.036552  0.097204   \n",
       "year              NaN       NaN       NaN       NaN       NaN       NaN   \n",
       "Temperature -0.287274  0.628018  0.460465  0.389893  0.533367  0.446786   \n",
       " RH          0.187345 -0.594521 -0.359966 -0.226196 -0.577153 -0.320332   \n",
       " Ws          0.184866 -0.183855  0.011656  0.084749  0.047128  0.041198   \n",
       "Rain         1.000000 -0.538028 -0.274709 -0.295724 -0.371929 -0.288747   \n",
       "FFMC        -0.538028  1.000000  0.589228  0.519383  0.778377  0.585526   \n",
       "DMC         -0.274709  0.589228  1.000000  0.885642  0.725107  0.982921   \n",
       "DC          -0.295724  0.519383  0.885642  1.000000  0.612169  0.946879   \n",
       "ISI         -0.371929  0.778377  0.725107  0.612169  1.000000  0.712229   \n",
       "BUI         -0.288747  0.585526  0.982921  0.946879  0.712229  1.000000   \n",
       "FWI         -0.321172  0.685106  0.892422  0.797920  0.940718  0.889220   \n",
       "Classes     -0.369954  0.772120  0.566794  0.511012  0.782927  0.573088   \n",
       "\n",
       "                  FWI   Classes  \n",
       "day          0.406396  0.210560  \n",
       "month        0.072592  0.020878  \n",
       "year              NaN       NaN  \n",
       "Temperature  0.502446  0.479959  \n",
       " RH         -0.479352 -0.374777  \n",
       " Ws          0.069346 -0.062348  \n",
       "Rain        -0.321172 -0.369954  \n",
       "FFMC         0.685106  0.772120  \n",
       "DMC          0.892422  0.566794  \n",
       "DC           0.797920  0.511012  \n",
       "ISI          0.940718  0.782927  \n",
       "BUI          0.889220  0.573088  \n",
       "FWI          1.000000  0.715940  \n",
       "Classes      0.715940  1.000000  "
      ]
     },
     "execution_count": 518,
     "metadata": {},
     "output_type": "execute_result"
    }
   ],
   "source": [
    "data_clean.corr()"
   ]
  },
  {
   "cell_type": "code",
   "execution_count": 528,
   "id": "c1a291f1",
   "metadata": {},
   "outputs": [
    {
     "data": {
      "text/plain": [
       "<AxesSubplot: >"
      ]
     },
     "execution_count": 528,
     "metadata": {},
     "output_type": "execute_result"
    },
    {
     "data": {
      "image/png": "[encoded data removed]",
      "text/plain": [
       "<Figure size 1440x684 with 2 Axes>"
      ]
     },
     "metadata": {
      "needs_background": "light"
     },
     "output_type": "display_data"
    }
   ],
   "source": [
    "plt.figure(figsize=(20,9.5))\n",
    "sns.heatmap(data_clean[num_columns].corr(),annot=True)"
   ]
  },
  {
   "cell_type": "markdown",
   "id": "5e4d6d4c",
   "metadata": {},
   "source": [
    "# Scaling of X and Y"
   ]
  },
  {
   "cell_type": "code",
   "execution_count": 540,
   "id": "0b5efe85",
   "metadata": {},
   "outputs": [],
   "source": [
    "x = data_clean.drop(['Classes', 'Region'],axis=1)"
   ]
  },
  {
   "cell_type": "code",
   "execution_count": 541,
   "id": "72422902",
   "metadata": {},
   "outputs": [
    {
     "data": {
      "text/html": [
       "<div>\n",
       "<style scoped>\n",
       "    .dataframe tbody tr th:only-of-type {\n",
       "        vertical-align: middle;\n",
       "    }\n",
       "\n",
       "    .dataframe tbody tr th {\n",
       "        vertical-align: top;\n",
       "    }\n",
       "\n",
       "    .dataframe thead th {\n",
       "        text-align: right;\n",
       "    }\n",
       "</style>\n",
       "<table border=\"1\" class=\"dataframe\">\n",
       "  <thead>\n",
       "    <tr style=\"text-align: right;\">\n",
       "      <th></th>\n",
       "      <th>day</th>\n",
       "      <th>month</th>\n",
       "      <th>year</th>\n",
       "      <th>Temperature</th>\n",
       "      <th>RH</th>\n",
       "      <th>Ws</th>\n",
       "      <th>Rain</th>\n",
       "      <th>FFMC</th>\n",
       "      <th>DMC</th>\n",
       "      <th>DC</th>\n",
       "      <th>ISI</th>\n",
       "      <th>BUI</th>\n",
       "      <th>FWI</th>\n",
       "    </tr>\n",
       "  </thead>\n",
       "  <tbody>\n",
       "    <tr>\n",
       "      <th>0</th>\n",
       "      <td>1</td>\n",
       "      <td>6</td>\n",
       "      <td>2012</td>\n",
       "      <td>29</td>\n",
       "      <td>57</td>\n",
       "      <td>18</td>\n",
       "      <td>0.0</td>\n",
       "      <td>65.7</td>\n",
       "      <td>3.4</td>\n",
       "      <td>7.6</td>\n",
       "      <td>1.3</td>\n",
       "      <td>3.4</td>\n",
       "      <td>0.5</td>\n",
       "    </tr>\n",
       "    <tr>\n",
       "      <th>1</th>\n",
       "      <td>2</td>\n",
       "      <td>6</td>\n",
       "      <td>2012</td>\n",
       "      <td>29</td>\n",
       "      <td>61</td>\n",
       "      <td>13</td>\n",
       "      <td>1.3</td>\n",
       "      <td>64.4</td>\n",
       "      <td>4.1</td>\n",
       "      <td>7.6</td>\n",
       "      <td>1.0</td>\n",
       "      <td>3.9</td>\n",
       "      <td>0.4</td>\n",
       "    </tr>\n",
       "    <tr>\n",
       "      <th>2</th>\n",
       "      <td>3</td>\n",
       "      <td>6</td>\n",
       "      <td>2012</td>\n",
       "      <td>26</td>\n",
       "      <td>82</td>\n",
       "      <td>22</td>\n",
       "      <td>13.1</td>\n",
       "      <td>47.1</td>\n",
       "      <td>2.5</td>\n",
       "      <td>7.1</td>\n",
       "      <td>0.3</td>\n",
       "      <td>2.7</td>\n",
       "      <td>0.1</td>\n",
       "    </tr>\n",
       "    <tr>\n",
       "      <th>4</th>\n",
       "      <td>5</td>\n",
       "      <td>6</td>\n",
       "      <td>2012</td>\n",
       "      <td>27</td>\n",
       "      <td>77</td>\n",
       "      <td>16</td>\n",
       "      <td>0.0</td>\n",
       "      <td>64.8</td>\n",
       "      <td>3.0</td>\n",
       "      <td>14.2</td>\n",
       "      <td>1.2</td>\n",
       "      <td>3.9</td>\n",
       "      <td>0.5</td>\n",
       "    </tr>\n",
       "    <tr>\n",
       "      <th>5</th>\n",
       "      <td>6</td>\n",
       "      <td>6</td>\n",
       "      <td>2012</td>\n",
       "      <td>31</td>\n",
       "      <td>67</td>\n",
       "      <td>14</td>\n",
       "      <td>0.0</td>\n",
       "      <td>82.6</td>\n",
       "      <td>5.8</td>\n",
       "      <td>22.2</td>\n",
       "      <td>3.1</td>\n",
       "      <td>7.0</td>\n",
       "      <td>2.5</td>\n",
       "    </tr>\n",
       "    <tr>\n",
       "      <th>...</th>\n",
       "      <td>...</td>\n",
       "      <td>...</td>\n",
       "      <td>...</td>\n",
       "      <td>...</td>\n",
       "      <td>...</td>\n",
       "      <td>...</td>\n",
       "      <td>...</td>\n",
       "      <td>...</td>\n",
       "      <td>...</td>\n",
       "      <td>...</td>\n",
       "      <td>...</td>\n",
       "      <td>...</td>\n",
       "      <td>...</td>\n",
       "    </tr>\n",
       "    <tr>\n",
       "      <th>239</th>\n",
       "      <td>26</td>\n",
       "      <td>9</td>\n",
       "      <td>2012</td>\n",
       "      <td>30</td>\n",
       "      <td>65</td>\n",
       "      <td>14</td>\n",
       "      <td>0.0</td>\n",
       "      <td>85.4</td>\n",
       "      <td>16.0</td>\n",
       "      <td>44.5</td>\n",
       "      <td>4.5</td>\n",
       "      <td>16.9</td>\n",
       "      <td>6.5</td>\n",
       "    </tr>\n",
       "    <tr>\n",
       "      <th>240</th>\n",
       "      <td>27</td>\n",
       "      <td>9</td>\n",
       "      <td>2012</td>\n",
       "      <td>28</td>\n",
       "      <td>87</td>\n",
       "      <td>15</td>\n",
       "      <td>4.4</td>\n",
       "      <td>41.1</td>\n",
       "      <td>6.5</td>\n",
       "      <td>8.0</td>\n",
       "      <td>0.1</td>\n",
       "      <td>6.2</td>\n",
       "      <td>0.0</td>\n",
       "    </tr>\n",
       "    <tr>\n",
       "      <th>241</th>\n",
       "      <td>28</td>\n",
       "      <td>9</td>\n",
       "      <td>2012</td>\n",
       "      <td>27</td>\n",
       "      <td>87</td>\n",
       "      <td>29</td>\n",
       "      <td>0.5</td>\n",
       "      <td>45.9</td>\n",
       "      <td>3.5</td>\n",
       "      <td>7.9</td>\n",
       "      <td>0.4</td>\n",
       "      <td>3.4</td>\n",
       "      <td>0.2</td>\n",
       "    </tr>\n",
       "    <tr>\n",
       "      <th>242</th>\n",
       "      <td>29</td>\n",
       "      <td>9</td>\n",
       "      <td>2012</td>\n",
       "      <td>24</td>\n",
       "      <td>54</td>\n",
       "      <td>18</td>\n",
       "      <td>0.1</td>\n",
       "      <td>79.7</td>\n",
       "      <td>4.3</td>\n",
       "      <td>15.2</td>\n",
       "      <td>1.7</td>\n",
       "      <td>5.1</td>\n",
       "      <td>0.7</td>\n",
       "    </tr>\n",
       "    <tr>\n",
       "      <th>243</th>\n",
       "      <td>30</td>\n",
       "      <td>9</td>\n",
       "      <td>2012</td>\n",
       "      <td>24</td>\n",
       "      <td>64</td>\n",
       "      <td>15</td>\n",
       "      <td>0.2</td>\n",
       "      <td>67.3</td>\n",
       "      <td>3.8</td>\n",
       "      <td>16.5</td>\n",
       "      <td>1.2</td>\n",
       "      <td>4.8</td>\n",
       "      <td>0.5</td>\n",
       "    </tr>\n",
       "  </tbody>\n",
       "</table>\n",
       "<p>227 rows × 13 columns</p>\n",
       "</div>"
      ],
      "text/plain": [
       "     day  month  year  Temperature   RH   Ws  Rain   FFMC   DMC    DC  ISI  \\\n",
       "0      1      6  2012           29   57   18    0.0  65.7   3.4   7.6  1.3   \n",
       "1      2      6  2012           29   61   13    1.3  64.4   4.1   7.6  1.0   \n",
       "2      3      6  2012           26   82   22   13.1  47.1   2.5   7.1  0.3   \n",
       "4      5      6  2012           27   77   16    0.0  64.8   3.0  14.2  1.2   \n",
       "5      6      6  2012           31   67   14    0.0  82.6   5.8  22.2  3.1   \n",
       "..   ...    ...   ...          ...  ...  ...    ...   ...   ...   ...  ...   \n",
       "239   26      9  2012           30   65   14    0.0  85.4  16.0  44.5  4.5   \n",
       "240   27      9  2012           28   87   15    4.4  41.1   6.5   8.0  0.1   \n",
       "241   28      9  2012           27   87   29    0.5  45.9   3.5   7.9  0.4   \n",
       "242   29      9  2012           24   54   18    0.1  79.7   4.3  15.2  1.7   \n",
       "243   30      9  2012           24   64   15    0.2  67.3   3.8  16.5  1.2   \n",
       "\n",
       "      BUI  FWI  \n",
       "0     3.4  0.5  \n",
       "1     3.9  0.4  \n",
       "2     2.7  0.1  \n",
       "4     3.9  0.5  \n",
       "5     7.0  2.5  \n",
       "..    ...  ...  \n",
       "239  16.9  6.5  \n",
       "240   6.2  0.0  \n",
       "241   3.4  0.2  \n",
       "242   5.1  0.7  \n",
       "243   4.8  0.5  \n",
       "\n",
       "[227 rows x 13 columns]"
      ]
     },
     "execution_count": 541,
     "metadata": {},
     "output_type": "execute_result"
    }
   ],
   "source": [
    "x"
   ]
  },
  {
   "cell_type": "code",
   "execution_count": 543,
   "id": "65c982eb",
   "metadata": {},
   "outputs": [],
   "source": [
    "y = data_clean['Classes']"
   ]
  },
  {
   "cell_type": "code",
   "execution_count": 544,
   "id": "374d460a",
   "metadata": {},
   "outputs": [
    {
     "data": {
      "text/plain": [
       "0      0\n",
       "1      0\n",
       "2      0\n",
       "4      0\n",
       "5      1\n",
       "      ..\n",
       "239    1\n",
       "240    0\n",
       "241    0\n",
       "242    0\n",
       "243    0\n",
       "Name: Classes, Length: 227, dtype: uint8"
      ]
     },
     "execution_count": 544,
     "metadata": {},
     "output_type": "execute_result"
    }
   ],
   "source": [
    "y"
   ]
  },
  {
   "cell_type": "code",
   "execution_count": 548,
   "id": "e266df7b",
   "metadata": {},
   "outputs": [],
   "source": [
    "from sklearn.preprocessing import StandardScaler\n",
    "scaler = StandardScaler()"
   ]
  },
  {
   "cell_type": "code",
   "execution_count": 549,
   "id": "89738362",
   "metadata": {},
   "outputs": [],
   "source": [
    "x_scaled = scaler.fit_transform(x) "
   ]
  },
  {
   "cell_type": "code",
   "execution_count": 550,
   "id": "30128d66",
   "metadata": {},
   "outputs": [
    {
     "data": {
      "text/plain": [
       "array([[-1.71834742, -1.31498375,  0.        , ..., -0.87395177,\n",
       "        -0.91706137, -0.86540245],\n",
       "       [-1.60452634, -1.31498375,  0.        , ..., -0.9625306 ,\n",
       "        -0.8821588 , -0.87991425],\n",
       "       [-1.49070525, -1.31498375,  0.        , ..., -1.16921454,\n",
       "        -0.96592498, -0.92344968],\n",
       "       ...,\n",
       "       [ 1.35482192,  1.37421725,  0.        , ..., -1.13968826,\n",
       "        -0.91706137, -0.90893787],\n",
       "       [ 1.46864301,  1.37421725,  0.        , ..., -0.75584667,\n",
       "        -0.79839261, -0.83637883],\n",
       "       [ 1.5824641 ,  1.37421725,  0.        , ..., -0.90347805,\n",
       "        -0.81933416, -0.86540245]])"
      ]
     },
     "execution_count": 550,
     "metadata": {},
     "output_type": "execute_result"
    }
   ],
   "source": [
    "x_scaled"
   ]
  },
  {
   "cell_type": "code",
   "execution_count": 595,
   "id": "d93448da",
   "metadata": {},
   "outputs": [
    {
     "data": {
      "text/plain": [
       "<AxesSubplot: xlabel='ISI', ylabel='FWI'>"
      ]
     },
     "execution_count": 595,
     "metadata": {},
     "output_type": "execute_result"
    },
    {
     "data": {
      "image/png": "[encoded data removed]",
      "text/plain": [
       "<Figure size 720x576 with 1 Axes>"
      ]
     },
     "metadata": {},
     "output_type": "display_data"
    }
   ],
   "source": [
    "sns.scatterplot(x=data_clean['ISI'], y=data_clean['FWI'])"
   ]
  },
  {
   "cell_type": "markdown",
   "id": "f6cf34df",
   "metadata": {},
   "source": [
    "# Train Test Split"
   ]
  },
  {
   "cell_type": "code",
   "execution_count": 552,
   "id": "40d72d19",
   "metadata": {},
   "outputs": [],
   "source": [
    "from sklearn.model_selection import train_test_split"
   ]
  },
  {
   "cell_type": "code",
   "execution_count": 554,
   "id": "b68145bd",
   "metadata": {},
   "outputs": [],
   "source": [
    "x_train, x_test, y_train, y_test = train_test_split(x_scaled, y, test_size=0.25, random_state=42)"
   ]
  },
  {
   "cell_type": "code",
   "execution_count": 555,
   "id": "9834096d",
   "metadata": {},
   "outputs": [
    {
     "data": {
      "text/plain": [
       "array([[-0.69395764, -0.41858342,  0.        , ..., -0.93300433,\n",
       "        -0.749529  , -0.86540245],\n",
       "       [ 1.12717975, -1.31498375,  0.        , ...,  0.72046716,\n",
       "         0.35339244,  0.60029024],\n",
       "       [-1.0354209 ,  0.47781692,  0.        , ...,  0.36615184,\n",
       "         0.04624976,  0.22298321],\n",
       "       ...,\n",
       "       [-1.49070525,  1.37421725,  0.        , ..., -1.22826709,\n",
       "        -1.03573014, -0.93796149],\n",
       "       [-1.0354209 ,  0.47781692,  0.        , ..., -0.90347805,\n",
       "        -0.67274333, -0.85089064],\n",
       "       [-0.35249438,  1.37421725,  0.        , ..., -1.22826709,\n",
       "        -1.02874962, -0.93796149]])"
      ]
     },
     "execution_count": 555,
     "metadata": {},
     "output_type": "execute_result"
    }
   ],
   "source": [
    "x_train"
   ]
  },
  {
   "cell_type": "code",
   "execution_count": 559,
   "id": "1d2e3a09",
   "metadata": {},
   "outputs": [
    {
     "data": {
      "text/plain": [
       "39     0\n",
       "25     1\n",
       "67     1\n",
       "196    1\n",
       "209    1\n",
       "      ..\n",
       "109    1\n",
       "15     0\n",
       "94     0\n",
       "189    0\n",
       "104    0\n",
       "Name: Classes, Length: 170, dtype: uint8"
      ]
     },
     "execution_count": 559,
     "metadata": {},
     "output_type": "execute_result"
    }
   ],
   "source": [
    "y_train"
   ]
  },
  {
   "cell_type": "code",
   "execution_count": 560,
   "id": "978bf022",
   "metadata": {},
   "outputs": [
    {
     "data": {
      "text/plain": [
       "array([[-0.58013655, -1.31498375,  0.        , -0.29942019,  0.13803646,\n",
       "        -0.55075817, -0.38597399,  0.50943378, -0.15406075,  0.09039123,\n",
       "        -0.0767423 , -0.05147746, -0.1253002 ],\n",
       "       [ 1.01335866, -1.31498375,  0.        ,  0.59884037,  0.51555786,\n",
       "         0.1555814 , -0.38597399,  0.62302307, -0.12973537, -0.4990881 ,\n",
       "         0.33662557, -0.26787344,  0.0343297 ],\n",
       "       [ 0.10278997, -1.31498375,  0.        , -0.59884037,  1.95013919,\n",
       "         0.1555814 , -0.08015865, -3.06484249, -1.07842526, -0.86468852,\n",
       "        -1.25779337, -1.04271065, -0.93796149],\n",
       "       [-1.14924199, -1.31498375,  0.        ,  0.89826056, -0.69251063,\n",
       "        -1.61026753, -0.33500477,  0.44885283, -0.48650764, -0.48471055,\n",
       "        -0.34247879, -0.50521096, -0.48809542],\n",
       "       [-1.14924199, -0.41858342,  0.        ,  0.89826056, -1.59856199,\n",
       "        -0.19758838, -0.23306632,  0.52457902,  0.08919307, -0.09857078,\n",
       "         0.01183652,  0.01134718, -0.02371754],\n",
       "       [-0.01103112,  0.47781692,  0.        ,  1.19768075, -0.16398066,\n",
       "         0.86192097, -0.23306632,  0.18381115, -0.21892844,  0.83186175,\n",
       "        -0.43105762,  0.07417182, -0.32846552],\n",
       "       [-0.92159981, -1.31498375,  0.        , -1.19768075, -0.91902347,\n",
       "         0.50875119,  0.27662592, -0.48257934, -0.54326686, -0.87290426,\n",
       "        -0.81489922, -0.64482127, -0.82186702],\n",
       "       [-1.14924199,  1.37421725,  0.        , -0.89826056,  0.81757499,\n",
       "         1.21509076, -0.33500477, -0.14938409, -0.87571375, -0.36352839,\n",
       "        -0.63774156, -0.76349003, -0.80735521],\n",
       "       [ 0.10278997, -0.41858342,  0.        , -0.89826056,  0.51555786,\n",
       "        -0.55075817, -0.38597399,  0.38069925, -0.40542303, -0.32450363,\n",
       "        -0.31295252, -0.37956168, -0.41553637],\n",
       "       [ 1.24100084, -1.31498375,  0.        ,  0.59884037, -0.76801491,\n",
       "         0.86192097, -0.38597399,  0.85020164,  0.58380916,  0.62441432,\n",
       "         1.45862408,  0.64657409,  1.23880983],\n",
       "       [-0.01103112,  1.37421725,  0.        , -0.59884037,  0.13803646,\n",
       "        -0.55075817, -0.38597399,  0.02478615, -0.90814759, -0.70242766,\n",
       "        -0.69679411, -0.86121725, -0.82186702],\n",
       "       [ 1.69628518, -0.41858342,  0.        ,  1.49710094, -0.61700635,\n",
       "        -0.19758838, -0.38597399,  0.8729195 ,  1.12707603,  0.35534884,\n",
       "         1.19288759,  0.82108698,  1.16625078],\n",
       "       [-1.49070525,  1.37421725,  0.        , -1.19768075,  0.89307927,\n",
       "         0.1555814 , -0.38597399,  0.33526354, -0.81084606, -0.52578925,\n",
       "        -0.28342624, -0.73556797, -0.57516627],\n",
       "       [ 0.55807432, -1.31498375,  0.        , -0.59884037,  1.11959211,\n",
       "        -0.55075817, -0.38597399,  0.24439211, -0.65678531, -0.375852  ,\n",
       "        -0.49011018, -0.5680356 , -0.6187017 ],\n",
       "       [-1.60452634, -0.41858342,  0.        , -1.49710094,  0.89307927,\n",
       "         1.21509076,  0.2256567 , -1.67148055, -0.97301527, -0.85441885,\n",
       "        -1.02158316, -0.95894447, -0.89442606],\n",
       "       [ 1.24100084,  1.37421725,  0.        , -0.29942019,  0.21354074,\n",
       "        -1.61026753, -0.38597399,  0.60030521, -0.4946161 , -0.51346564,\n",
       "        -0.0767423 , -0.52615251, -0.34297733],\n",
       "       [-0.69395764,  0.47781692,  0.        ,  2.09594131, -1.82507483,\n",
       "        -0.19758838, -0.28403555,  0.8729195 ,  0.11351845, -0.29780247,\n",
       "         1.16336131, -0.05147746,  0.61480205],\n",
       "       [ 1.46864301,  1.37421725,  0.        , -1.79652112,  1.27060067,\n",
       "         0.1555814 ,  0.53147204, -2.30000795, -0.93247297, -0.86674246,\n",
       "        -1.16921454, -0.94498344, -0.92344968],\n",
       "       [ 1.24100084,  0.47781692,  0.        ,  0.29942019,  1.42160923,\n",
       "         1.92143033, -0.38597399,  0.53972426,  2.64335816,  3.08708234,\n",
       "         0.0413628 ,  2.98504677,  0.97759727],\n",
       "       [ 1.01335866,  0.47781692,  0.        ,  0.89826056, -0.23948494,\n",
       "        -0.19758838, -0.38597399,  0.84262903,  2.39199588,  2.69888863,\n",
       "         1.16336131,  2.66394306,  2.00793569],\n",
       "       [ 0.89953758,  0.47781692,  0.        ,  0.89826056, -1.90057912,\n",
       "        -0.19758838, -0.38597399,  1.08495284,  2.99202197,  2.00876649,\n",
       "         2.34441238,  2.67790409,  2.96571507],\n",
       "       [-1.71834742, -1.31498375,  0.        ,  0.        ,  0.59106214,\n",
       "        -1.25709774, -0.02918942, -1.56546389, -0.96490681, -0.85647278,\n",
       "        -1.08063571, -0.95894447, -0.90893787],\n",
       "       [ 1.46864301,  1.37421725,  0.        , -2.3953615 , -0.69251063,\n",
       "         0.86192097, -0.33500477,  0.14594806, -0.81895452, -0.71269733,\n",
       "        -0.75584667, -0.79839261, -0.83637883],\n",
       "       [-0.12485221, -0.41858342,  0.        ,  0.59884037, -1.37204915,\n",
       "         0.50875119, -0.38597399,  0.96379093,  0.29190458, -0.52989712,\n",
       "         1.96057078,  0.08115234,  1.10820355],\n",
       "       [ 0.44425323, -1.31498375,  0.        , -0.59884037,  1.27060067,\n",
       "         0.1555814 , -0.1820971 , -1.36100317, -0.89193067, -0.46827907,\n",
       "        -0.99205688, -0.79839261, -0.87991425],\n",
       "       [-0.46631547,  1.37421725,  0.        , -0.89826056,  1.87463491,\n",
       "        -0.90392795, -0.38597399, -0.51286981, -0.95679835, -0.68394224,\n",
       "        -0.90347805, -0.89611983, -0.86540245],\n",
       "       [ 1.24100084, -0.41858342,  0.        ,  1.19768075, -1.14553631,\n",
       "        -0.90392795, -0.38597399,  0.94864569,  0.63245993,  1.20362398,\n",
       "         1.3109927 ,  0.89787265,  1.28234525],\n",
       "       [-0.92159981,  1.37421725,  0.        , -0.59884037,  0.7420707 ,\n",
       "         0.50875119,  0.07274903, -1.19440554, -0.95679835, -0.85236491,\n",
       "        -0.93300433, -0.94498344, -0.87991425],\n",
       "       [ 0.6718954 , -0.41858342,  0.        ,  0.        , -1.14553631,\n",
       "         0.86192097, -0.38597399,  1.03951713,  2.41632126,  0.82569995,\n",
       "         2.63967514,  1.9170279 ,  2.74803794],\n",
       "       [ 1.12717975,  0.47781692,  0.        ,  0.29942019, -1.9760834 ,\n",
       "         0.1555814 , -0.38597399,  1.09252546,  3.80286803,  2.4092838 ,\n",
       "         2.61014887,  3.313131  ,  3.45911657],\n",
       "       [ 1.35482192, -0.41858342,  0.        ,  0.29942019, -0.46599778,\n",
       "         0.1555814 , -0.38597399,  0.73661236,  0.10540999, -0.2526159 ,\n",
       "         0.72046716, -0.05845797,  0.3681013 ],\n",
       "       [-0.23867329,  0.47781692,  0.        ,  0.29942019,  0.21354074,\n",
       "        -0.55075817, -0.38597399,  0.69874926,  0.59191763,  0.92018096,\n",
       "         0.4252044 ,  0.74430131,  0.60029024],\n",
       "       [ 0.44425323,  0.47781692,  0.        ,  0.89826056,  0.3645493 ,\n",
       "         1.21509076, -0.38597399,  0.79719331,  0.93247297,  1.65754361,\n",
       "         1.34051897,  1.26783996,  1.50002238],\n",
       "       [ 0.21661106, -1.31498375,  0.        , -0.29942019,  1.11959211,\n",
       "        -0.55075817, -0.23306632, -1.58060912, -1.01355758, -0.86058065,\n",
       "        -1.05110943, -0.98686653, -0.90893787],\n",
       "       [ 0.89953758,  1.37421725,  0.        , -0.89826056,  0.13803646,\n",
       "         1.21509076, -0.08015865, -0.71733053, -0.721653  , -0.71269733,\n",
       "        -0.81489922, -0.749529  , -0.83637883],\n",
       "       [-0.58013655, -0.41858342,  0.        ,  0.59884037, -0.54150207,\n",
       "        -0.19758838,  1.09213351, -0.22511028, -0.59191763, -0.82977163,\n",
       "        -0.78537294, -0.67972385, -0.82186702],\n",
       "       [ 1.5824641 ,  1.37421725,  0.        , -2.09594131,  1.11959211,\n",
       "        -0.55075817,  0.32759515, -2.48175081, -1.01355758, -0.87085033,\n",
       "        -1.19874082, -0.98686653, -0.92344968],\n",
       "       [-1.26306307, -0.41858342,  0.        ,  0.59884037, -1.37204915,\n",
       "         0.86192097, -0.38597399,  0.96379093,  0.34866381, -0.07186963,\n",
       "         2.07867589,  0.15095749,  1.23880983],\n",
       "       [ 1.46864301, -1.31498375,  0.        ,  1.49710094, -2.05158768,\n",
       "        -0.90392795, -0.08015865,  0.63816831,  0.28379612, -0.27110132,\n",
       "         0.15946791,  0.08813285,  0.10688874],\n",
       "       [-1.0354209 , -1.31498375,  0.        ,  0.89826056, -1.44755343,\n",
       "         0.50875119, -0.28403555,  0.59273259, -0.36488073, -0.43130825,\n",
       "         0.33662557, -0.40748375, -0.06725296],\n",
       "       [ 0.78571649,  0.47781692,  0.        ,  1.19768075, -0.76801491,\n",
       "         0.1555814 , -0.38597399,  0.88806474,  1.88116286,  2.29220951,\n",
       "         1.8129394 ,  2.16134594,  2.29817187],\n",
       "       [ 0.89953758, -1.31498375,  0.        ,  0.89826056,  0.3645493 ,\n",
       "         0.1555814 , -0.38597399,  0.57001473, -0.35677227, -0.67572651,\n",
       "         0.18899418, -0.46332787, -0.16883563],\n",
       "       [-1.60452634, -1.31498375,  0.        , -0.59884037,  0.7420707 ,\n",
       "        -0.90392795,  1.65279498, -1.67148055, -0.94868989, -0.86468852,\n",
       "        -1.08063571, -0.95196395, -0.90893787],\n",
       "       [-0.69395764,  0.47781692,  0.        ,  0.89826056, -0.61700635,\n",
       "        -0.55075817, -0.38597399,  0.84262903,  0.34055535,  0.35124097,\n",
       "         0.9271511 ,  0.37433399,  0.74540833],\n",
       "       [ 0.78571649,  1.37421725,  0.        ,  0.        , -0.69251063,\n",
       "        -1.61026753, -0.13112787, -0.3084091 , -0.52704994, -0.40049922,\n",
       "        -0.90347805, -0.48426942, -0.83637883],\n",
       "       [-1.37688416,  1.37421725,  0.        , -0.89826056,  0.7420707 ,\n",
       "         0.50875119, -0.33500477, -0.70975791, -1.01355758, -0.70242766,\n",
       "        -0.8444255 , -0.95196395, -0.86540245],\n",
       "       [-1.71834742,  0.47781692,  0.        ,  1.19768075, -1.37204915,\n",
       "        -0.55075817, -0.38597399,  0.07779448, -0.77841222, -0.81539408,\n",
       "        -0.66726784, -0.82631467, -0.80735521],\n",
       "       [ 0.21661106, -0.41858342,  0.        ,  0.29942019,  0.3645493 ,\n",
       "        -0.19758838, -0.38597399,  0.63059569,  0.77030376,  0.03493499,\n",
       "         0.27757301,  0.51394429,  0.38261311],\n",
       "       [-0.80777873,  0.47781692,  0.        ,  0.89826056, -0.31498922,\n",
       "         0.50875119, -0.38597399,  0.72903974,  0.03243384,  0.14584748,\n",
       "         0.77951972,  0.09511337,  0.49870758],\n",
       "       [-0.35249438,  0.47781692,  0.        ,  0.89826056, -2.20259624,\n",
       "         0.1555814 , -0.28403555,  0.79719331,  0.20271152, -0.09857078,\n",
       "         0.95667738,  0.06719131,  0.58577843],\n",
       "       [ 0.44425323,  1.37421725,  0.        ,  0.59884037, -0.3904935 ,\n",
       "        -0.90392795, -0.28403555,  0.13080282,  0.34866381,  0.78256732,\n",
       "        -0.63774156,  0.54884687, -0.38651276],\n",
       "       [ 0.78571649, -1.31498375,  0.        ,  0.29942019, -0.31498922,\n",
       "         0.1555814 ,  0.0217798 , -0.270546  , -0.60002609, -0.85441885,\n",
       "        -0.78537294, -0.68670436, -0.82186702],\n",
       "       [ 1.35482192,  1.37421725,  0.        , -1.49710094,  1.79913063,\n",
       "         4.74678862, -0.13112787, -2.41359724, -0.88382221, -0.86263459,\n",
       "        -1.13968826, -0.91706137, -0.90893787],\n",
       "       [-0.12485221,  0.47781692,  0.        ,  0.89826056, -1.29654487,\n",
       "        -0.90392795, -0.23306632,  0.46399806,  0.20271152,  0.0883373 ,\n",
       "        -0.22437369,  0.17189904, -0.13981201],\n",
       "       [-0.92159981,  1.37421725,  0.        , -0.59884037,  1.87463491,\n",
       "        -0.55075817, -0.38597399,  0.3579814 , -0.63245993, -0.48881842,\n",
       "        -0.37200507, -0.58897715, -0.54614265],\n",
       "       [ 0.44425323,  1.37421725,  0.        , -1.19768075,  1.57261779,\n",
       "         0.86192097, -0.38597399,  0.45642545, -0.07297615, -0.01230551,\n",
       "         0.07088908, -0.03751643, -0.02371754],\n",
       "       [-0.35249438,  1.37421725,  0.        , -0.89826056, -1.07003203,\n",
       "         1.21509076, -0.38597399,  0.81991117, -0.23514536, -0.33888117,\n",
       "         1.4290978 , -0.28881498,  0.55675481]])"
      ]
     },
     "execution_count": 560,
     "metadata": {},
     "output_type": "execute_result"
    }
   ],
   "source": [
    "x_test"
   ]
  },
  {
   "cell_type": "code",
   "execution_count": 561,
   "id": "7015aeac",
   "metadata": {},
   "outputs": [
    {
     "data": {
      "text/plain": [
       "10     1\n",
       "146    1\n",
       "16     0\n",
       "127    1\n",
       "157    1\n",
       "76     1\n",
       "129    0\n",
       "97     0\n",
       "46     1\n",
       "26     1\n",
       "107    0\n",
       "182    1\n",
       "216    1\n",
       "20     1\n",
       "31     0\n",
       "118    1\n",
       "192    1\n",
       "120    0\n",
       "87     1\n",
       "85     1\n",
       "206    1\n",
       "122    0\n",
       "242    0\n",
       "166    1\n",
       "19     0\n",
       "103    0\n",
       "56     1\n",
       "99     0\n",
       "173    1\n",
       "208    1\n",
       "179    1\n",
       "74     1\n",
       "80     1\n",
       "17     0\n",
       "115    0\n",
       "162    0\n",
       "121    0\n",
       "156    1\n",
       "150    1\n",
       "128    1\n",
       "83     1\n",
       "145    1\n",
       "123    0\n",
       "70     1\n",
       "114    0\n",
       "95     0\n",
       "61     0\n",
       "169    1\n",
       "69     1\n",
       "195    1\n",
       "233    0\n",
       "144    0\n",
       "241    0\n",
       "197    1\n",
       "221    1\n",
       "111    1\n",
       "226    1\n",
       "Name: Classes, dtype: uint8"
      ]
     },
     "execution_count": 561,
     "metadata": {},
     "output_type": "execute_result"
    }
   ],
   "source": [
    "y_test"
   ]
  },
  {
   "cell_type": "markdown",
   "id": "2b9fce47",
   "metadata": {},
   "source": [
    "# Let's Train our data "
   ]
  },
  {
   "cell_type": "code",
   "execution_count": 562,
   "id": "5ac60292",
   "metadata": {},
   "outputs": [],
   "source": [
    "from sklearn.linear_model import LogisticRegression"
   ]
  },
  {
   "cell_type": "code",
   "execution_count": 563,
   "id": "89f5a610",
   "metadata": {},
   "outputs": [],
   "source": [
    "regression = LogisticRegression()"
   ]
  },
  {
   "cell_type": "code",
   "execution_count": 564,
   "id": "c855b293",
   "metadata": {},
   "outputs": [
    {
     "data": {
      "text/plain": [
       "LogisticRegression()"
      ]
     },
     "execution_count": 564,
     "metadata": {},
     "output_type": "execute_result"
    }
   ],
   "source": [
    "regression.fit(x_train, y_train)"
   ]
  },
  {
   "cell_type": "code",
   "execution_count": 565,
   "id": "dcbfe534",
   "metadata": {},
   "outputs": [],
   "source": [
    "prediction = regression.predict(x_test)"
   ]
  },
  {
   "cell_type": "markdown",
   "id": "3294a765",
   "metadata": {},
   "source": [
    "# Accuracy Score"
   ]
  },
  {
   "cell_type": "code",
   "execution_count": 572,
   "id": "14f9f443",
   "metadata": {},
   "outputs": [],
   "source": [
    "from sklearn.metrics import accuracy_score, confusion_matrix, roc_curve, roc_auc_score\n",
    "import matplotlib.pyplot as plt\n",
    "import seaborn as sns"
   ]
  },
  {
   "cell_type": "code",
   "execution_count": 573,
   "id": "90202556",
   "metadata": {},
   "outputs": [],
   "source": [
    "accuracy =accuracy_score(y_test, prediction)"
   ]
  },
  {
   "cell_type": "code",
   "execution_count": 574,
   "id": "60fc3d0f",
   "metadata": {},
   "outputs": [
    {
     "data": {
      "text/plain": [
       "0.9824561403508771"
      ]
     },
     "execution_count": 574,
     "metadata": {},
     "output_type": "execute_result"
    }
   ],
   "source": [
    "accuracy"
   ]
  },
  {
   "cell_type": "markdown",
   "id": "d508dadb",
   "metadata": {},
   "source": [
    "# Confusion Matrix"
   ]
  },
  {
   "cell_type": "code",
   "execution_count": 579,
   "id": "7668b220",
   "metadata": {},
   "outputs": [],
   "source": [
    "confusion_mat = confusion_matrix(y_test, prediction)"
   ]
  },
  {
   "cell_type": "code",
   "execution_count": 580,
   "id": "58c92f88",
   "metadata": {},
   "outputs": [
    {
     "data": {
      "text/plain": [
       "array([[22,  0],\n",
       "       [ 1, 34]], dtype=int64)"
      ]
     },
     "execution_count": 580,
     "metadata": {},
     "output_type": "execute_result"
    }
   ],
   "source": [
    "confusion_mat"
   ]
  },
  {
   "cell_type": "code",
   "execution_count": 582,
   "id": "0d93afed",
   "metadata": {},
   "outputs": [],
   "source": [
    "true_positive = confusion_mat[0][0]\n",
    "true_negative = confusion_mat[1][1]\n",
    "false_positive = confusion_mat[0][1]\n",
    "false_negative = confusion_mat[1][0]"
   ]
  },
  {
   "cell_type": "code",
   "execution_count": 583,
   "id": "ed1e7e35",
   "metadata": {},
   "outputs": [
    {
     "data": {
      "text/plain": [
       "22"
      ]
     },
     "execution_count": 583,
     "metadata": {},
     "output_type": "execute_result"
    }
   ],
   "source": [
    "true_positive"
   ]
  },
  {
   "cell_type": "code",
   "execution_count": 584,
   "id": "9f6934f1",
   "metadata": {},
   "outputs": [
    {
     "data": {
      "text/plain": [
       "34"
      ]
     },
     "execution_count": 584,
     "metadata": {},
     "output_type": "execute_result"
    }
   ],
   "source": [
    "true_negative"
   ]
  },
  {
   "cell_type": "code",
   "execution_count": 585,
   "id": "47c6110d",
   "metadata": {},
   "outputs": [
    {
     "data": {
      "text/plain": [
       "0"
      ]
     },
     "execution_count": 585,
     "metadata": {},
     "output_type": "execute_result"
    }
   ],
   "source": [
    "false_positive"
   ]
  },
  {
   "cell_type": "code",
   "execution_count": 586,
   "id": "ad309269",
   "metadata": {},
   "outputs": [
    {
     "data": {
      "text/plain": [
       "1"
      ]
     },
     "execution_count": 586,
     "metadata": {},
     "output_type": "execute_result"
    }
   ],
   "source": [
    "false_negative"
   ]
  },
  {
   "cell_type": "code",
   "execution_count": 588,
   "id": "3b0e953c",
   "metadata": {},
   "outputs": [
    {
     "data": {
      "text/plain": [
       "0.9824561403508771"
      ]
     },
     "execution_count": 588,
     "metadata": {},
     "output_type": "execute_result"
    }
   ],
   "source": [
    "#Breaking down the formula for Accuracy\n",
    "Accuracy = (true_positive + true_negative) / (true_positive +false_positive + false_negative + true_negative)\n",
    "Accuracy"
   ]
  },
  {
   "cell_type": "markdown",
   "id": "4c4ecabd",
   "metadata": {},
   "source": [
    "# Precison"
   ]
  },
  {
   "cell_type": "code",
   "execution_count": 589,
   "id": "9518262a",
   "metadata": {},
   "outputs": [
    {
     "data": {
      "text/plain": [
       "1.0"
      ]
     },
     "execution_count": 589,
     "metadata": {},
     "output_type": "execute_result"
    }
   ],
   "source": [
    "# Precison\n",
    "Precision = true_positive/(true_positive+false_positive)\n",
    "Precision"
   ]
  },
  {
   "cell_type": "markdown",
   "id": "02eb0d16",
   "metadata": {},
   "source": [
    "# Recall"
   ]
  },
  {
   "cell_type": "code",
   "execution_count": 591,
   "id": "c3ac8253",
   "metadata": {},
   "outputs": [
    {
     "data": {
      "text/plain": [
       "0.9565217391304348"
      ]
     },
     "execution_count": 591,
     "metadata": {},
     "output_type": "execute_result"
    }
   ],
   "source": [
    "# Recall\n",
    "Recall = true_positive/(true_positive+false_negative)\n",
    "Recall"
   ]
  },
  {
   "cell_type": "markdown",
   "id": "20256bce",
   "metadata": {},
   "source": [
    "# F1 Score"
   ]
  },
  {
   "cell_type": "code",
   "execution_count": 592,
   "id": "308f7c1a",
   "metadata": {},
   "outputs": [
    {
     "data": {
      "text/plain": [
       "0.9777777777777777"
      ]
     },
     "execution_count": 592,
     "metadata": {},
     "output_type": "execute_result"
    }
   ],
   "source": [
    "# F1 Score\n",
    "F1_Score = 2*(Recall * Precision) / (Recall + Precision)\n",
    "F1_Score"
   ]
  },
  {
   "cell_type": "markdown",
   "id": "5deebee8",
   "metadata": {},
   "source": [
    "# Observation\n",
    "\n",
    "### So here we are getting very good accuracy because we train our model and done EDA great.\n",
    "### Thank You "
   ]
  },
  {
   "cell_type": "code",
   "execution_count": null,
   "id": "61a284da",
   "metadata": {},
   "outputs": [],
   "source": []
  }
 ],
 "metadata": {
  "kernelspec": {
   "display_name": "Python 3 (ipykernel)",
   "language": "python",
   "name": "python3"
  },
  "language_info": {
   "codemirror_mode": {
    "name": "ipython",
    "version": 3
   },
   "file_extension": ".py",
   "mimetype": "text/x-python",
   "name": "python",
   "nbconvert_exporter": "python",
   "pygments_lexer": "ipython3",
   "version": "3.9.7"
  }
 },
 "nbformat": 4,
 "nbformat_minor": 5
}
